{
 "cells": [
  {
   "cell_type": "code",
   "execution_count": 1,
   "metadata": {},
   "outputs": [],
   "source": [
    "import os\n",
    "import tarfile\n",
    "import urllib\n",
    "import numpy as np\n",
    "import pickle\n",
    "import pandas as pd\n",
    "import datetime\n",
    "import numpy as np"
   ]
  },
  {
   "cell_type": "code",
   "execution_count": 2,
   "metadata": {},
   "outputs": [],
   "source": [
    "X_PATH = '../datasets/mnist_X_train.pkl';\n",
    "Y_PATH = '../datasets/mnist_y_train.pkl';"
   ]
  },
  {
   "cell_type": "code",
   "execution_count": 3,
   "metadata": {},
   "outputs": [],
   "source": [
    "def load_data(path):\n",
    "    return pd.read_pickle(path)"
   ]
  },
  {
   "cell_type": "code",
   "execution_count": 4,
   "metadata": {},
   "outputs": [],
   "source": [
    "#Load Initial Data\n",
    "x_training = load_data(X_PATH)\n",
    "y_labels = load_data(Y_PATH)"
   ]
  },
  {
   "cell_type": "code",
   "execution_count": 5,
   "metadata": {
    "scrolled": true
   },
   "outputs": [
    {
     "name": "stdout",
     "output_type": "stream",
     "text": [
      "6\n"
     ]
    },
    {
     "data": {
      "image/png": "[encoded data removed]",
      "text/plain": [
       "<Figure size 432x288 with 1 Axes>"
      ]
     },
     "metadata": {
      "needs_background": "light"
     },
     "output_type": "display_data"
    }
   ],
   "source": [
    "## View how Data is arranged\n",
    "from matplotlib import pyplot as plt\n",
    "im = np.asarray(x_training[3])\n",
    "im = np.reshape(im, (28,28)) ### Reshape it to square dimensions because it's an image\n",
    "\n",
    "#### We may want to consider converting these to grayscale values ##########\n",
    "plt.figure;\n",
    "plt.imshow(im);\n",
    "print(y_labels[3])"
   ]
  },
  {
   "cell_type": "code",
   "execution_count": 6,
   "metadata": {},
   "outputs": [],
   "source": [
    "import tensorflow as tf\n",
    "from tensorflow import keras\n",
    "from sklearn.model_selection import train_test_split\n",
    "from sklearn.pipeline import Pipeline\n",
    "from sklearn.impute import SimpleImputer\n",
    "from sklearn.preprocessing import StandardScaler, PolynomialFeatures"
   ]
  },
  {
   "cell_type": "code",
   "execution_count": 1,
   "metadata": {},
   "outputs": [
    {
     "ename": "NameError",
     "evalue": "name 'x_training' is not defined",
     "output_type": "error",
     "traceback": [
      "\u001b[1;31m---------------------------------------------------------------------------\u001b[0m",
      "\u001b[1;31mNameError\u001b[0m                                 Traceback (most recent call last)",
      "\u001b[1;32m<ipython-input-1-cde55489c1b5>\u001b[0m in \u001b[0;36m<module>\u001b[1;34m\u001b[0m\n\u001b[0;32m      2\u001b[0m \u001b[1;32mfrom\u001b[0m \u001b[0msklearn\u001b[0m\u001b[1;33m.\u001b[0m\u001b[0mmodel_selection\u001b[0m \u001b[1;32mimport\u001b[0m \u001b[0mtrain_test_split\u001b[0m\u001b[1;33m\u001b[0m\u001b[1;33m\u001b[0m\u001b[0m\n\u001b[0;32m      3\u001b[0m \u001b[1;31m#X_train, X_test, y_train, y_test=train_test_split(x_training, y_labels, test_size=.3, shuffle = True,random_state = 42)\u001b[0m\u001b[1;33m\u001b[0m\u001b[1;33m\u001b[0m\u001b[1;33m\u001b[0m\u001b[0m\n\u001b[1;32m----> 4\u001b[1;33m \u001b[0mX_train\u001b[0m\u001b[1;33m,\u001b[0m \u001b[0mX_test\u001b[0m\u001b[1;33m,\u001b[0m \u001b[0my_train\u001b[0m\u001b[1;33m,\u001b[0m \u001b[0my_test\u001b[0m\u001b[1;33m=\u001b[0m\u001b[0mtrain_test_split\u001b[0m\u001b[1;33m(\u001b[0m\u001b[0mx_training\u001b[0m\u001b[1;33m,\u001b[0m \u001b[0my_labels\u001b[0m\u001b[1;33m,\u001b[0m \u001b[0mtest_size\u001b[0m\u001b[1;33m=\u001b[0m\u001b[1;36m.3\u001b[0m\u001b[1;33m,\u001b[0m \u001b[0mstratify\u001b[0m \u001b[1;33m=\u001b[0m \u001b[0my_labels\u001b[0m\u001b[1;33m,\u001b[0m\u001b[0mrandom_state\u001b[0m \u001b[1;33m=\u001b[0m \u001b[1;36m0\u001b[0m\u001b[1;33m)\u001b[0m\u001b[1;33m\u001b[0m\u001b[1;33m\u001b[0m\u001b[0m\n\u001b[0m",
      "\u001b[1;31mNameError\u001b[0m: name 'x_training' is not defined"
     ]
    }
   ],
   "source": [
    "#### Split Data #####\n",
    "#X_train, X_test, y_train, y_test=train_test_split(x_training, y_labels, test_size=.3, shuffle = True,random_state = 42)\n",
    "X_train, X_test, y_train, y_test=train_test_split(x_training, y_labels, test_size=.3, stratify = y_labels,random_state = 0)"
   ]
  },
  {
   "cell_type": "markdown",
   "metadata": {},
   "source": [
    "### Ideas on how to Preprocess Data\n",
    "Start by converting our data from 16 bit rgb to 8 bit grayscale first  \n",
    "Now that we know our data is grayscale whose max pixel value is 255, we can then normalize our data\n",
    "\n",
    "Try denoise"
   ]
  },
  {
   "cell_type": "code",
   "execution_count": 8,
   "metadata": {
    "scrolled": false
   },
   "outputs": [
    {
     "name": "stdout",
     "output_type": "stream",
     "text": [
      "4\n"
     ]
    },
    {
     "data": {
      "image/png": "[encoded data removed]",
      "text/plain": [
       "<Figure size 432x288 with 1 Axes>"
      ]
     },
     "metadata": {
      "needs_background": "light"
     },
     "output_type": "display_data"
    }
   ],
   "source": [
    "from sklearn.base import BaseEstimator, TransformerMixin\n",
    "import cv2 as cv2\n",
    "from scipy import signal\n",
    "\n",
    "### This shows that we can convert our rows into 28x28 images that are 8 bit and normalized.\n",
    "\n",
    "img_n = cv2.normalize(src=x_training[100], dst=None, alpha=0, beta=255, norm_type=cv2.NORM_MINMAX, dtype=cv2.CV_8U)\n",
    "ret, thresh1 = cv2.threshold(img_n,50,255,cv2.THRESH_TOZERO)\n",
    "thresh1 = thresh1 /255\n",
    "plt.imshow(thresh1.reshape(28,28));\n",
    "print(y_labels[100])"
   ]
  },
  {
   "cell_type": "code",
   "execution_count": 9,
   "metadata": {},
   "outputs": [],
   "source": [
    "#Custom Pipeline Transform to convert to each row to 8 bit grayscale\n",
    "class convert_grayscale_transform(BaseEstimator, TransformerMixin):\n",
    "    def __init__(self, convert_grayscale=True): # no *args or **kargs\n",
    "        self.convert_grayscale = convert_grayscale;\n",
    "    def fit(self, X, y=None):\n",
    "        return self  # nothing else to do\n",
    "    def transform(self, X):\n",
    "        if self.convert_grayscale:\n",
    "            X_ = X.copy()\n",
    "            for idx,im in enumerate(X_):\n",
    "                im = cv2.normalize(im, dst=None, alpha=0, beta=255, norm_type=cv2.NORM_MINMAX, dtype=cv2.CV_8U)/255;\n",
    "                X_[idx,:] = im[:,0]\n",
    "            return X_;\n",
    "            #return cv2.normalize(X, dst=None, alpha=0, beta=255, norm_type=cv2.NORM_MINMAX, dtype=cv2.CV_8U)/255.0;\n",
    "        else:\n",
    "            return self"
   ]
  },
  {
   "cell_type": "code",
   "execution_count": 10,
   "metadata": {
    "scrolled": false
   },
   "outputs": [
    {
     "data": {
      "image/png": "[encoded data removed]",
      "text/plain": [
       "<Figure size 432x288 with 1 Axes>"
      ]
     },
     "metadata": {
      "needs_background": "light"
     },
     "output_type": "display_data"
    }
   ],
   "source": [
    "from sklearn.preprocessing import StandardScaler\n",
    "# EZ pipeline\n",
    "num_pipeline = Pipeline([\n",
    "    ('convert_to_Gray', convert_grayscale_transform())\n",
    "])\n",
    "\n",
    "#Fit data as a test;\n",
    "transformed_x_train = num_pipeline.fit_transform(X_train);\n",
    "transformed_x_test = num_pipeline.transform(X_test);\n",
    "#transformed_x_train[9]\n",
    "## Shows that grayscale works within the pipeline\n",
    "plt.imshow(transformed_x_train[3].reshape(28,28), cmap='gray');\n"
   ]
  },
  {
   "cell_type": "code",
   "execution_count": 11,
   "metadata": {},
   "outputs": [],
   "source": [
    "# Display Cross Validation Scores\n",
    "def display_scores(scores):\n",
    "    print(\"Scores:\", scores)\n",
    "    print(\"Mean:\", scores.mean())\n",
    "    print(\"STD:\", scores.std())"
   ]
  },
  {
   "cell_type": "markdown",
   "metadata": {},
   "source": [
    "# Stochastic Gradient Descent (SGD Classifier)"
   ]
  },
  {
   "cell_type": "code",
   "execution_count": 12,
   "metadata": {
    "scrolled": true
   },
   "outputs": [
    {
     "data": {
      "text/plain": [
       "SGDClassifier(random_state=42)"
      ]
     },
     "execution_count": 12,
     "metadata": {},
     "output_type": "execute_result"
    }
   ],
   "source": [
    "from sklearn.linear_model import SGDClassifier\n",
    "sgd_clf = SGDClassifier(random_state=42)\n",
    "sgd_clf.fit(transformed_x_train, y_train)"
   ]
  },
  {
   "cell_type": "code",
   "execution_count": 13,
   "metadata": {},
   "outputs": [
    {
     "data": {
      "image/png": "[encoded data removed]",
      "text/plain": [
       "<Figure size 432x288 with 1 Axes>"
      ]
     },
     "metadata": {
      "needs_background": "light"
     },
     "output_type": "display_data"
    }
   ],
   "source": [
    "some_digit = transformed_x_test[3];\n",
    "some_digit_image = some_digit.reshape(28,28)\n",
    "plt.imshow(some_digit_image, cmap = 'gray');"
   ]
  },
  {
   "cell_type": "code",
   "execution_count": 14,
   "metadata": {},
   "outputs": [
    {
     "name": "stdout",
     "output_type": "stream",
     "text": [
      "[4]\n",
      "4\n"
     ]
    }
   ],
   "source": [
    "print(sgd_clf.predict([some_digit]))\n",
    "print(y_test[3])"
   ]
  },
  {
   "cell_type": "code",
   "execution_count": 15,
   "metadata": {
    "scrolled": false
   },
   "outputs": [
    {
     "name": "stdout",
     "output_type": "stream",
     "text": [
      "[0.80335714 0.79857143 0.79507143]\n"
     ]
    }
   ],
   "source": [
    "# Don't use accuracy or classiiers. Use Confusion Matrix instead and measure Precision\n",
    "from sklearn.metrics import f1_score\n",
    "from sklearn.model_selection import cross_val_predict\n",
    "from sklearn.metrics import confusion_matrix\n",
    "from sklearn.model_selection import cross_val_score\n",
    "\n",
    "SGD_y_predict_score = cross_val_score(sgd_clf, transformed_x_train, y_train, cv=3, scoring=\"accuracy\")\n",
    "SGD_y_predict_train = cross_val_predict(sgd_clf, transformed_x_train, y_train, cv=3)\n",
    "SGD_confusion_train = confusion_matrix(y_train, SGD_y_predict_train);\n",
    "print(SGD_y_predict_score)"
   ]
  },
  {
   "cell_type": "markdown",
   "metadata": {},
   "source": [
    "# KNN Classifier\n",
    "will attempt to do grid search using : https://github.com/ageron/handson-ml2/blob/master/03_classification.ipynb"
   ]
  },
  {
   "cell_type": "code",
   "execution_count": 30,
   "metadata": {},
   "outputs": [
    {
     "name": "stdout",
     "output_type": "stream",
     "text": [
      "Fitting 5 folds for each of 6 candidates, totalling 30 fits\n",
      "[CV 1/5] END ................n_neighbors=12, weights=uniform; total time=  17.1s\n",
      "[CV 2/5] END ................n_neighbors=12, weights=uniform; total time=  14.7s\n",
      "[CV 3/5] END ................n_neighbors=12, weights=uniform; total time=  14.9s\n",
      "[CV 4/5] END ................n_neighbors=12, weights=uniform; total time=  14.8s\n",
      "[CV 5/5] END ................n_neighbors=12, weights=uniform; total time=  14.1s\n",
      "[CV 1/5] END ...............n_neighbors=12, weights=distance; total time=  14.4s\n",
      "[CV 2/5] END ...............n_neighbors=12, weights=distance; total time=  13.0s\n",
      "[CV 3/5] END ...............n_neighbors=12, weights=distance; total time=  15.2s\n",
      "[CV 4/5] END ...............n_neighbors=12, weights=distance; total time=  14.7s\n",
      "[CV 5/5] END ...............n_neighbors=12, weights=distance; total time=  15.4s\n",
      "[CV 1/5] END ................n_neighbors=13, weights=uniform; total time=  16.5s\n",
      "[CV 2/5] END ................n_neighbors=13, weights=uniform; total time=  14.6s\n",
      "[CV 3/5] END ................n_neighbors=13, weights=uniform; total time=  17.2s\n",
      "[CV 4/5] END ................n_neighbors=13, weights=uniform; total time=  15.8s\n",
      "[CV 5/5] END ................n_neighbors=13, weights=uniform; total time=  15.5s\n",
      "[CV 1/5] END ...............n_neighbors=13, weights=distance; total time=  14.3s\n",
      "[CV 2/5] END ...............n_neighbors=13, weights=distance; total time=  14.1s\n",
      "[CV 3/5] END ...............n_neighbors=13, weights=distance; total time=  15.6s\n",
      "[CV 4/5] END ...............n_neighbors=13, weights=distance; total time=  14.4s\n",
      "[CV 5/5] END ...............n_neighbors=13, weights=distance; total time=  14.8s\n",
      "[CV 1/5] END ................n_neighbors=14, weights=uniform; total time=  16.4s\n",
      "[CV 2/5] END ................n_neighbors=14, weights=uniform; total time=  15.8s\n",
      "[CV 3/5] END ................n_neighbors=14, weights=uniform; total time=  16.7s\n",
      "[CV 4/5] END ................n_neighbors=14, weights=uniform; total time=  15.7s\n",
      "[CV 5/5] END ................n_neighbors=14, weights=uniform; total time=  17.0s\n",
      "[CV 1/5] END ...............n_neighbors=14, weights=distance; total time=  15.8s\n",
      "[CV 2/5] END ...............n_neighbors=14, weights=distance; total time=  16.0s\n",
      "[CV 3/5] END ...............n_neighbors=14, weights=distance; total time=  16.4s\n",
      "[CV 4/5] END ...............n_neighbors=14, weights=distance; total time=  16.1s\n",
      "[CV 5/5] END ...............n_neighbors=14, weights=distance; total time=  16.9s\n"
     ]
    },
    {
     "data": {
      "text/plain": [
       "GridSearchCV(cv=5, estimator=KNeighborsClassifier(),\n",
       "             param_grid=[{'n_neighbors': [12, 13, 14],\n",
       "                          'weights': ['uniform', 'distance']}],\n",
       "             verbose=3)"
      ]
     },
     "execution_count": 30,
     "metadata": {},
     "output_type": "execute_result"
    }
   ],
   "source": [
    "from sklearn.neighbors import KNeighborsClassifier\n",
    "from sklearn.model_selection import GridSearchCV\n",
    "\n",
    "param_grid = [{'weights': [\"uniform\", \"distance\"], 'n_neighbors': [12,13,14]}]\n",
    "\n",
    "knn_clf = KNeighborsClassifier()\n",
    "grid_search = GridSearchCV(knn_clf, param_grid, cv=5, verbose=3)\n",
    "grid_search.fit(transformed_x_train, y_train)\n",
    "\n",
    "#knn_clf.fit(transformed_x_train, y_train)"
   ]
  },
  {
   "cell_type": "code",
   "execution_count": 31,
   "metadata": {},
   "outputs": [
    {
     "name": "stdout",
     "output_type": "stream",
     "text": [
      "{'n_neighbors': 14, 'weights': 'distance'}\n",
      "0.8952142857142859\n"
     ]
    }
   ],
   "source": [
    "print(grid_search.best_params_)\n",
    "print(grid_search.best_score_)"
   ]
  },
  {
   "cell_type": "code",
   "execution_count": 32,
   "metadata": {},
   "outputs": [
    {
     "data": {
      "text/plain": [
       "0.8946111111111111"
      ]
     },
     "execution_count": 32,
     "metadata": {},
     "output_type": "execute_result"
    }
   ],
   "source": [
    "from sklearn.metrics import accuracy_score\n",
    "\n",
    "y_pred = grid_search.predict(transformed_x_test)\n",
    "accuracy_score(y_test, y_pred)"
   ]
  },
  {
   "cell_type": "code",
   "execution_count": 33,
   "metadata": {},
   "outputs": [
    {
     "data": {
      "text/plain": [
       "KNeighborsClassifier(n_neighbors=14, weights='distance')"
      ]
     },
     "execution_count": 33,
     "metadata": {},
     "output_type": "execute_result"
    }
   ],
   "source": [
    "knn_clf = KNeighborsClassifier(**grid_search.best_params_)\n",
    "knn_clf.fit(transformed_x_train, y_train)"
   ]
  },
  {
   "cell_type": "code",
   "execution_count": 20,
   "metadata": {},
   "outputs": [
    {
     "name": "stdout",
     "output_type": "stream",
     "text": [
      "[0.88771429 0.89       0.89292857]\n"
     ]
    }
   ],
   "source": [
    "KNN_y_predict_score = cross_val_score(knn_clf, transformed_x_train, y_train, cv=3, scoring=\"accuracy\")\n",
    "#KNN_y_predict_train = cross_val_predict(sgd_clf, transformed_x_train, y_train, cv=3)\n",
    "#KNN_confusion_train = confusion_matrix(y_train, SGD_y_predict_train);\n",
    "print(KNN_y_predict_score)"
   ]
  },
  {
   "cell_type": "markdown",
   "metadata": {},
   "source": [
    "# Poly - SVC"
   ]
  },
  {
   "cell_type": "code",
   "execution_count": 21,
   "metadata": {},
   "outputs": [
    {
     "data": {
      "text/plain": [
       "Pipeline(steps=[('scaler', StandardScaler()),\n",
       "                ('svm_clf',\n",
       "                 SVC(C=5, coef0=1, kernel='poly', probability=True))])"
      ]
     },
     "execution_count": 21,
     "metadata": {},
     "output_type": "execute_result"
    }
   ],
   "source": [
    "from sklearn.svm import SVC\n",
    "poly_svm_clf = Pipeline([\n",
    "       (\"scaler\", StandardScaler()),\n",
    "       (\"svm_clf\", SVC(kernel=\"poly\", degree=3, coef0=1, C=5,probability=True))\n",
    "    ])\n",
    "\n",
    "#poly_svm_clf = SVC(kernel=\"poly\", degree=3, coef0=1, C=5) Don't use this, this was worse. But we'lll fix this later in version 2 of our ensemble method\n",
    "poly_svm_clf.fit(transformed_x_train,y_train)"
   ]
  },
  {
   "cell_type": "code",
   "execution_count": 22,
   "metadata": {},
   "outputs": [
    {
     "name": "stdout",
     "output_type": "stream",
     "text": [
      "[0.88771429 0.88835714 0.88621429]\n"
     ]
    }
   ],
   "source": [
    "poly_svm_y_predict_score = cross_val_score(poly_svm_clf, transformed_x_train, y_train, cv=3, scoring=\"accuracy\")\n",
    "#KNN_y_predict_train = cross_val_predict(sgd_clf, transformed_x_train, y_train, cv=3)\n",
    "#KNN_confusion_train = confusion_matrix(y_train, SGD_y_predict_train);\n",
    "print(poly_svm_y_predict_score)"
   ]
  },
  {
   "cell_type": "code",
   "execution_count": 23,
   "metadata": {},
   "outputs": [
    {
     "name": "stdout",
     "output_type": "stream",
     "text": [
      "[4]\n",
      "4\n"
     ]
    }
   ],
   "source": [
    "print(poly_svm_clf.predict([some_digit]))\n",
    "print(y_test[3])"
   ]
  },
  {
   "cell_type": "markdown",
   "metadata": {},
   "source": [
    "# RBF  - SVC"
   ]
  },
  {
   "cell_type": "code",
   "execution_count": 24,
   "metadata": {},
   "outputs": [],
   "source": [
    "RBF_svm_clf = SVC(kernel = 'rbf',probability=True);\n",
    "RBF_svm_clf.fit(transformed_x_train,y_train);"
   ]
  },
  {
   "cell_type": "code",
   "execution_count": 25,
   "metadata": {},
   "outputs": [
    {
     "name": "stdout",
     "output_type": "stream",
     "text": [
      "[0.89307143 0.89571429 0.89414286]\n"
     ]
    }
   ],
   "source": [
    "RBF_svm_y_predict_score = cross_val_score(RBF_svm_clf, transformed_x_train, y_train, cv=3, scoring=\"accuracy\")\n",
    "#KNN_y_predict_train = cross_val_predict(sgd_clf, transformed_x_train, y_train, cv=3)\n",
    "#KNN_confusion_train = confusion_matrix(y_train, SGD_y_predict_train);\n",
    "print(RBF_svm_y_predict_score)"
   ]
  },
  {
   "cell_type": "code",
   "execution_count": 26,
   "metadata": {},
   "outputs": [
    {
     "name": "stdout",
     "output_type": "stream",
     "text": [
      "[4]\n",
      "4\n"
     ]
    }
   ],
   "source": [
    "print(RBF_svm_clf.predict([some_digit]))\n",
    "print(y_test[3])"
   ]
  },
  {
   "cell_type": "markdown",
   "metadata": {},
   "source": [
    "# Ensemble Learning\n",
    "Based off my results from above, my best models are\n",
    "KNN, Poly SVC, and RBF-SVC\n",
    "\n",
    "Building onto the ensemble learning, we will try using a voting classifier.  \n",
    "Name of models are as follows:  \n",
    "  \n",
    "RBF : RBF_svm_clf  \n",
    "Poly : poly_svm_clf  \n",
    "KNN : knn_clf"
   ]
  },
  {
   "cell_type": "markdown",
   "metadata": {},
   "source": [
    "from sklearn.ensemble import VotingClassifier\n",
    "\n",
    "voting_clf = VotingClassifier(\n",
    "    estimators=[('rf_svm', RBF_svm_clf), ('poly_svm', poly_svm_clf), ('KNN', knn_clf)],\n",
    "    voting='soft')\n",
    "\n",
    "voting_clf.fit(transformed_x_train, y_train)"
   ]
  },
  {
   "cell_type": "markdown",
   "metadata": {
    "scrolled": true
   },
   "source": [
    "for clf in (RBF_svm_clf, poly_svm_clf, knn_clf, voting_clf):\n",
    "    clf.fit(transformed_x_train, y_train)\n",
    "    y_pred = clf.predict(transformed_x_test)\n",
    "    print(clf.__class__.__name__, accuracy_score(y_test, y_pred))"
   ]
  },
  {
   "cell_type": "markdown",
   "metadata": {},
   "source": [
    "# Ensemble Version 2: \n",
    "same shit as before, but run the entire voting classifer in a separate pipeline, that scales the data prior.  \n",
    "We removed poly_svm_clf pipeline so that we can run StandardScaler() for all of our models.\n",
    "Issue to remember as I let this run for the night:   \n",
    "    - KNN might not need a StandardScaler (Fix, replace with my gridsearch()))  \n",
    "    - RBF already achieves 90% without standard scaler  \n",
    "    - My validation code below isn't reflecting the poly_svm_clf model that i had earlier   \n",
    "    - Also, before i give up on this, I will rerun with softmax on ensemble 1 tomorrow. "
   ]
  },
  {
   "cell_type": "markdown",
   "metadata": {},
   "source": [
    "# Final Pickling\n",
    "redo all of this... see how standardscaler() does.  \n",
    "But, this time, reuse the idea from ensemble 2, but replace standardscaler with my convert_to_gray converter, so that we can use voting_clf2.fit on an original dataset. My best model performance achieves 91.44% accuracy.  \n",
    "delete poly_svm_clf, from before. replace standardscaler with my converter, rerun the entire thing overnight and hate the run time later. Fix KNN, see if i can improve it. if the standardscaler does improve it, i might keep it "
   ]
  },
  {
   "cell_type": "code",
   "execution_count": 27,
   "metadata": {},
   "outputs": [
    {
     "data": {
      "text/plain": [
       "Pipeline(steps=[('convert_to_gray', convert_grayscale_transform()),\n",
       "                ('ensemble',\n",
       "                 VotingClassifier(estimators=[('rf_svm', SVC(probability=True)),\n",
       "                                              ('poly_svm',\n",
       "                                               Pipeline(steps=[('scaler',\n",
       "                                                                StandardScaler()),\n",
       "                                                               ('svm_clf',\n",
       "                                                                SVC(C=5,\n",
       "                                                                    coef0=1,\n",
       "                                                                    kernel='poly',\n",
       "                                                                    probability=True))])),\n",
       "                                              ('KNN',\n",
       "                                               KNeighborsClassifier(n_neighbors=14,\n",
       "                                                                    weights='distance'))],\n",
       "                                  voting='soft'))])"
      ]
     },
     "execution_count": 27,
     "metadata": {},
     "output_type": "execute_result"
    }
   ],
   "source": [
    "from sklearn.ensemble import VotingClassifier\n",
    "#Create voting classifier pipeline that scales my data. \n",
    "voting_clf2 = Pipeline([\n",
    "    (\"convert_to_gray\", convert_grayscale_transform()), #This is my pipeline from earlier. Also scales my data as well. \n",
    "    (\"ensemble\", VotingClassifier(\n",
    "        estimators=[('rf_svm', RBF_svm_clf), ('poly_svm', poly_svm_clf), ('KNN', knn_clf)],\n",
    "        voting='soft')\n",
    "    )\n",
    "])\n",
    "\n",
    "voting_clf2.fit(X_train, y_train)"
   ]
  },
  {
   "cell_type": "code",
   "execution_count": 28,
   "metadata": {},
   "outputs": [
    {
     "name": "stdout",
     "output_type": "stream",
     "text": [
      "SVC 0.9019444444444444\n",
      "Pipeline 0.8976666666666666\n",
      "KNeighborsClassifier 0.8893888888888889\n",
      "Pipeline 0.9129444444444444\n"
     ]
    }
   ],
   "source": [
    "for clf in (RBF_svm_clf, poly_svm_clf, knn_clf, voting_clf2):\n",
    "    clf.fit(X_train, y_train)\n",
    "    y_pred = clf.predict(X_test)\n",
    "    print(clf.__class__.__name__, accuracy_score(y_test, y_pred))"
   ]
  },
  {
   "cell_type": "code",
   "execution_count": 29,
   "metadata": {
    "scrolled": true
   },
   "outputs": [
    {
     "name": "stdout",
     "output_type": "stream",
     "text": [
      "Done\n"
     ]
    }
   ],
   "source": [
    "filename = 'model2.pkl'\n",
    "pickle.dump(voting_clf2, open(filename, 'wb'))\n",
    "print(\"Done\")"
   ]
  },
  {
   "cell_type": "code",
   "execution_count": 34,
   "metadata": {},
   "outputs": [
    {
     "name": "stdout",
     "output_type": "stream",
     "text": [
      "[[4002    1   18   13    8   30   37    7   26    4]\n",
      " [   0 4611   32   12    4   13    5    7   31    4]\n",
      " [  46   93 3686   45   67   12   53   74   77   18]\n",
      " [  19   52   78 3749    3  170   17   58  104   42]\n",
      " [   4   36   25    1 3693   11   43   20   20  236]\n",
      " [  38   40   15  164   40 3288   74   18   68   50]\n",
      " [  43   35   36    1   27   51 3925    1   23    1]\n",
      " [  11   79   44   12   51   10    2 4007   13  156]\n",
      " [  21  123   50  136   21  114   43   23 3457  108]\n",
      " [  19   44   16   60  157   24    3  185   33 3623]]\n"
     ]
    }
   ],
   "source": [
    "voting_clf2_predict_train = cross_val_predict(voting_clf2, X_train, y_train, cv=3);\n",
    "voting_clf2_confusion_train = confusion_matrix(y_train, voting_clf2_predict_train);\n",
    "print(voting_clf2_confusion_train)"
   ]
  },
  {
   "cell_type": "code",
   "execution_count": 35,
   "metadata": {},
   "outputs": [
    {
     "data": {
      "image/png": "[encoded data removed]",
      "text/plain": [
       "<Figure size 288x288 with 1 Axes>"
      ]
     },
     "metadata": {
      "needs_background": "light"
     },
     "output_type": "display_data"
    }
   ],
   "source": [
    "plt.matshow(voting_clf2_confusion_train, cmap=plt.cm.gray)\n",
    "plt.show()"
   ]
  },
  {
   "cell_type": "code",
   "execution_count": null,
   "metadata": {},
   "outputs": [],
   "source": []
  }
 ],
 "metadata": {
  "kernelspec": {
   "display_name": "Python 3",
   "language": "python",
   "name": "python3"
  },
  "language_info": {
   "codemirror_mode": {
    "name": "ipython",
    "version": 3
   },
   "file_extension": ".py",
   "mimetype": "text/x-python",
   "name": "python",
   "nbconvert_exporter": "python",
   "pygments_lexer": "ipython3",
   "version": "3.7.6"
  }
 },
 "nbformat": 4,
 "nbformat_minor": 4
}
