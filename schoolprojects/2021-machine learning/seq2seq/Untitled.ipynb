{
 "cells": [
  {
   "cell_type": "code",
   "execution_count": 1,
   "metadata": {},
   "outputs": [],
   "source": [
    "import os\n",
    "import tarfile\n",
    "import urllib\n",
    "import numpy as np\n",
    "import pickle\n",
    "import pandas as pd\n",
    "import datetime\n",
    "import numpy as np"
   ]
  },
  {
   "cell_type": "code",
   "execution_count": 2,
   "metadata": {},
   "outputs": [],
   "source": [
    "os.environ['TF_FORCE_GPU_ALLOW_GROWTH'] = 'true'\n",
    "X_PATH = '../datasets/Xtrain.pkl';\n",
    "Y_PATH = '../datasets/Ytrain.pkl';"
   ]
  },
  {
   "cell_type": "code",
   "execution_count": 3,
   "metadata": {},
   "outputs": [],
   "source": [
    "def load_data(path):\n",
    "    return pd.read_pickle(path)"
   ]
  },
  {
   "cell_type": "code",
   "execution_count": 4,
   "metadata": {},
   "outputs": [
    {
     "data": {
      "text/plain": [
       "(60000, 28, 28)"
      ]
     },
     "execution_count": 4,
     "metadata": {},
     "output_type": "execute_result"
    }
   ],
   "source": [
    "x_training = load_data(X_PATH)\n",
    "y_labels = load_data(Y_PATH)\n",
    "\n",
    "np.shape(x_training)"
   ]
  },
  {
   "cell_type": "code",
   "execution_count": 5,
   "metadata": {},
   "outputs": [
    {
     "data": {
      "image/png": "[encoded data removed]",
      "text/plain": [
       "<Figure size 432x288 with 1 Axes>"
      ]
     },
     "metadata": {
      "needs_background": "light"
     },
     "output_type": "display_data"
    }
   ],
   "source": [
    "from matplotlib import pyplot as plt\n",
    "plt.imshow(x_training[1]);"
   ]
  },
  {
   "cell_type": "code",
   "execution_count": 6,
   "metadata": {},
   "outputs": [
    {
     "name": "stdout",
     "output_type": "stream",
     "text": [
      "[[0.         0.         0.         0.         0.         0.00392157\n",
      "  0.         0.         0.         0.         0.16078432 0.7372549\n",
      "  0.40392157 0.21176471 0.1882353  0.16862746 0.34117648 0.65882355\n",
      "  0.52156866 0.0627451  0.         0.         0.         0.\n",
      "  0.         0.         0.         0.        ]\n",
      " [0.         0.         0.         0.00392157 0.         0.\n",
      "  0.         0.19215687 0.53333336 0.85882354 0.84705883 0.89411765\n",
      "  0.9254902  1.         1.         1.         1.         0.8509804\n",
      "  0.84313726 0.99607843 0.90588236 0.627451   0.1764706  0.\n",
      "  0.         0.         0.         0.        ]\n",
      " [0.         0.         0.         0.         0.         0.05490196\n",
      "  0.6901961  0.87058824 0.8784314  0.83137256 0.79607844 0.7764706\n",
      "  0.76862746 0.78431374 0.84313726 0.8        0.7921569  0.7882353\n",
      "  0.7882353  0.7882353  0.81960785 0.85490197 0.8784314  0.6431373\n",
      "  0.         0.         0.         0.        ]\n",
      " [0.         0.         0.         0.         0.         0.7372549\n",
      "  0.85882354 0.78431374 0.7764706  0.7921569  0.7764706  0.78039217\n",
      "  0.78039217 0.7882353  0.76862746 0.7764706  0.7764706  0.78431374\n",
      "  0.78431374 0.78431374 0.78431374 0.7882353  0.78431374 0.88235295\n",
      "  0.16078432 0.         0.         0.        ]\n",
      " [0.         0.         0.         0.         0.2        0.85882354\n",
      "  0.78039217 0.79607844 0.79607844 0.83137256 0.93333334 0.972549\n",
      "  0.98039216 0.9607843  0.9764706  1.1647059  1.5921569  1.9803922\n",
      "  1.5960784  1.117647   0.8117647  0.79607844 0.79607844 0.87058824\n",
      "  0.54901963 0.         0.         0.        ]\n",
      " [0.         0.         0.         0.         0.45490196 0.8862745\n",
      "  0.80784315 0.8        0.8117647  0.8        0.39607844 0.29411766\n",
      "  0.18431373 0.28627452 0.3764706  1.1294118  1.1647059  1.1882353\n",
      "  1.2352941  1.372549   0.87058824 0.7921569  0.80784315 0.8627451\n",
      "  0.8784314  0.         0.         0.        ]\n",
      " [0.         0.         0.         0.         0.78431374 0.87058824\n",
      "  0.81960785 0.79607844 0.84313726 0.78431374 0.         0.27450982\n",
      "  0.38431373 0.21176471 1.2941177  1.2235295  1.254902   1.2156863\n",
      "  1.1058824  0.9882353  1.082353   0.83137256 0.8392157  0.8235294\n",
      "  0.98039216 0.14901961 0.         0.        ]\n",
      " [0.         0.         0.         0.         0.96862745 0.85490197\n",
      "  0.83137256 0.8235294  0.84313726 0.8392157  0.         1.0352942\n",
      "  1.1882353  1.4235294  1.9882352  1.6745098  1.972549   1.7921569\n",
      "  1.1333333  0.9882353  1.8352941  1.3294117  0.8392157  0.8156863\n",
      "  0.8627451  0.37254903 0.         0.        ]\n",
      " [0.         0.         0.         0.1764706  0.8862745  0.8392157\n",
      "  0.8392157  0.84313726 0.8784314  0.8039216  0.         0.8039216\n",
      "  1.1254902  1.2235295  1.0509804  1.0588236  1.0352942  1.0392157\n",
      "  0.6509804  0.7411765  1.7333333  1.5019608  0.83137256 0.80784315\n",
      "  0.83137256 0.6117647  0.         0.        ]\n",
      " [0.         0.         0.         0.6431373  0.92156863 0.8392157\n",
      "  0.827451   0.8627451  0.84705883 0.7882353  0.40392157 1.2117647\n",
      "  1.3411765  1.3607843  1.0705882  0.7529412  1.2666667  1.1921569\n",
      "  0.54509807 0.6509804  1.8078432  1.4705882  0.87058824 0.8352941\n",
      "  0.85882354 0.8156863  0.         0.        ]\n",
      " [0.         0.         0.         0.41568628 0.73333335 0.8745098\n",
      "  0.92941177 0.972549   0.827451   0.9647059  1.9215686  1.9686275\n",
      "  1.9607843  1.6627451  1.0196079  1.2823529  1.4666667  1.0627451\n",
      "  0.9882353  0.9372549  1.7803922  1.7843137  1.0784314  0.84313726\n",
      "  0.75686276 0.44313726 0.         0.        ]\n",
      " [0.         0.         0.         0.         0.         0.06666667\n",
      "  0.21176471 0.62352943 1.0196079  1.4039216  1.8078432  1.6666667\n",
      "  1.5882354  1.1137255  0.78431374 0.78431374 0.78431374 0.7882353\n",
      "  0.79607844 0.7647059  1.8156862  1.6352942  0.64705884 0.\n",
      "  0.         0.         0.         0.        ]\n",
      " [0.         0.         0.         0.         0.         0.\n",
      "  0.         0.21176471 1.5803921  1.7411765  1.7803922  1.0745099\n",
      "  0.88235295 0.9098039  0.8        0.8039216  0.80784315 0.8\n",
      "  0.83137256 0.77254903 1.8470588  1.4078431  0.7647059  0.\n",
      "  0.         0.         0.         0.        ]\n",
      " [0.         0.         0.         0.         0.00392157 0.02352941\n",
      "  0.         0.40392157 1.8196079  1.7529411  1.0784314  0.7921569\n",
      "  0.80784315 0.8039216  0.8        0.8039216  0.80784315 0.8\n",
      "  0.83137256 0.78431374 1.8470588  1.345098   0.7647059  0.01176471\n",
      "  0.00392157 0.         0.         0.        ]\n",
      " [0.         0.         0.         0.         0.         0.00392157\n",
      "  0.         0.81960785 1.7647059  1.5254903  0.8039216  0.7921569\n",
      "  0.8039216  0.80784315 0.8        0.8039216  0.8117647  0.8\n",
      "  0.8039216  0.8039216  1.854902   1.2941177  0.76862746 0.01960784\n",
      "  0.         0.         0.         0.        ]\n",
      " [0.         0.         0.         0.         0.         0.01176471\n",
      "  0.29803923 0.972549   1.7372549  1.2156863  0.7882353  0.8039216\n",
      "  0.80784315 0.8039216  0.8039216  0.80784315 0.81960785 0.80784315\n",
      "  0.78039217 0.81960785 1.8509804  1.2784314  0.5803922  0.01960784\n",
      "  0.         0.         0.         0.        ]\n",
      " [0.         0.         0.         0.         0.         0.00784314\n",
      "  0.33333334 0.9882353  1.6392157  0.87058824 0.78431374 0.8117647\n",
      "  0.8117647  0.8        0.8117647  0.8117647  0.8235294  0.8156863\n",
      "  0.8039216  1.3411765  1.8588235  1.0117648  0.04705882 0.01568628\n",
      "  0.         0.         0.         0.        ]\n",
      " [0.         0.         0.         0.         0.         0.00784314\n",
      "  0.33333334 0.9882353  1.7176471  0.7764706  0.79607844 0.80784315\n",
      "  0.8156863  0.8039216  0.8117647  0.8117647  0.8235294  0.84313726\n",
      "  1.2980392  1.7803922  1.7529411  0.57254905 0.         0.01568628\n",
      "  0.         0.         0.         0.        ]\n",
      " [0.         0.         0.         0.         0.         0.00392157\n",
      "  0.33333334 0.9882353  1.4000001  0.7764706  0.81960785 0.80784315\n",
      "  0.81960785 0.80784315 0.8156863  0.8117647  1.0156863  1.4549019\n",
      "  1.7921569  1.4549019  0.8666667  0.3137255  0.         0.01176471\n",
      "  0.         0.         0.         0.        ]\n",
      " [0.         0.         0.         0.         0.         0.00392157\n",
      "  0.3372549  0.99215686 1.682353   0.7882353  0.8039216  0.8156863\n",
      "  0.8117647  0.8039216  0.827451   1.2509804  1.7568628  1.8156862\n",
      "  1.4549019  0.7647059  0.8666667  0.3764706  0.         0.01176471\n",
      "  0.         0.         0.         0.        ]\n",
      " [0.         0.         0.         0.         0.         0.00392157\n",
      "  0.33333334 0.9882353  1.7686274  1.3607843  0.99215686 0.93333334\n",
      "  1.1450981  1.5019608  1.7176471  1.8        1.6980393  1.4745098\n",
      "  1.0431373  0.7607843  0.8509804  0.4117647  0.         0.00784314\n",
      "  0.         0.         0.         0.        ]\n",
      " [0.         0.         0.         0.         0.         0.00392157\n",
      "  0.33333334 0.9882353  1.7882353  1.7882353  1.7019608  1.6588235\n",
      "  1.8        1.7921569  1.8313725  1.5803921  1.3333334  0.8156863\n",
      "  0.827451   0.75686276 0.8352941  0.4509804  0.         0.00784314\n",
      "  0.         0.         0.         0.        ]\n",
      " [0.         0.         0.         0.         0.         0.\n",
      "  0.10980392 0.78039217 1.7882353  1.8        1.8039216  1.8039216\n",
      "  1.7960784  1.7215686  1.4117647  0.8235294  0.8235294  0.8117647\n",
      "  0.83137256 0.7647059  0.8235294  0.4627451  0.         0.00784314\n",
      "  0.         0.         0.         0.        ]\n",
      " [0.         0.         0.         0.         0.         0.00392157\n",
      "  0.         0.09803922 1.2784314  1.8039216  1.8078432  1.8039216\n",
      "  1.3529413  0.95686275 0.83137256 0.83137256 0.8235294  0.8117647\n",
      "  0.827451   0.76862746 0.8117647  0.4745098  0.         0.00392157\n",
      "  0.         0.         0.         0.        ]\n",
      " [0.         0.         0.         0.         0.         0.00392157\n",
      "  0.         0.         0.7764706  0.8235294  0.8117647  0.8156863\n",
      "  0.80784315 0.81960785 0.8352941  0.83137256 0.827451   0.8117647\n",
      "  0.8235294  0.77254903 0.8117647  0.4862745  0.         0.00392157\n",
      "  0.         0.         0.         0.        ]\n",
      " [0.         0.         0.         0.         0.         0.\n",
      "  0.         0.         0.6745098  0.8235294  0.79607844 0.7882353\n",
      "  0.78039217 0.8        0.8117647  0.8039216  0.8        0.7882353\n",
      "  0.8039216  0.77254903 0.80784315 0.49803922 0.         0.\n",
      "  0.         0.         0.         0.        ]\n",
      " [0.         0.         0.         0.         0.         0.\n",
      "  0.         0.         0.7372549  0.8666667  0.8392157  0.91764706\n",
      "  0.9254902  0.93333334 0.95686275 0.95686275 0.95686275 0.9411765\n",
      "  0.9529412  0.8392157  0.8784314  0.63529414 0.         0.00784314\n",
      "  0.         0.         0.         0.        ]\n",
      " [0.         0.         0.         0.         0.         0.00392157\n",
      "  0.         0.         0.54509807 0.57254905 0.50980395 0.5294118\n",
      "  0.5294118  0.5372549  0.49019608 0.4862745  0.49019608 0.4745098\n",
      "  0.46666667 0.44705883 0.50980395 0.29803923 0.         0.\n",
      "  0.         0.         0.         0.        ]]\n"
     ]
    }
   ],
   "source": [
    "print(x_training[1])"
   ]
  },
  {
   "cell_type": "code",
   "execution_count": 7,
   "metadata": {},
   "outputs": [
    {
     "data": {
      "image/png": "[encoded data removed]",
      "text/plain": [
       "<Figure size 432x288 with 1 Axes>"
      ]
     },
     "metadata": {
      "needs_background": "light"
     },
     "output_type": "display_data"
    }
   ],
   "source": [
    "plt.imshow(y_labels[1]);"
   ]
  },
  {
   "cell_type": "code",
   "execution_count": 8,
   "metadata": {},
   "outputs": [],
   "source": [
    "import tensorflow as tf;\n",
    "from tensorflow import keras; "
   ]
  },
  {
   "cell_type": "code",
   "execution_count": 9,
   "metadata": {},
   "outputs": [],
   "source": [
    "from sklearn.model_selection import train_test_split\n",
    "X_train_full, X_test, y_train_full, y_test=train_test_split(x_training, y_labels, test_size=.3, random_state = 42)\n",
    "\n",
    "X_train, X_valid = X_train_full[:-5000], X_train_full[-5000:]\n",
    "y_train, y_valid = y_train_full[:-5000], y_train_full[-5000:]\n",
    "\n",
    "X_mean = X_train.mean(axis=0, keepdims=True)\n",
    "X_std = X_train.std(axis=0, keepdims=True) + 1e-7\n",
    "X_train = (X_train - X_mean) / X_std\n",
    "X_valid = (X_valid - X_mean) / X_std\n",
    "X_test = (X_test - X_mean) / X_std"
   ]
  },
  {
   "cell_type": "code",
   "execution_count": 10,
   "metadata": {},
   "outputs": [],
   "source": [
    "def rounded_accuracy(y_true, y_pred):\n",
    "    return keras.metrics.binary_accuracy(tf.round(y_true), tf.round(y_pred))"
   ]
  },
  {
   "cell_type": "code",
   "execution_count": 11,
   "metadata": {},
   "outputs": [
    {
     "name": "stdout",
     "output_type": "stream",
     "text": [
      "Model: \"sequential\"\n",
      "_________________________________________________________________\n",
      "Layer (type)                 Output Shape              Param #   \n",
      "=================================================================\n",
      "reshape (Reshape)            (None, 28, 28, 1)         0         \n",
      "_________________________________________________________________\n",
      "conv2d (Conv2D)              (None, 28, 28, 1)         325       \n",
      "_________________________________________________________________\n",
      "max_pooling2d (MaxPooling2D) (None, 7, 7, 1)           0         \n",
      "_________________________________________________________________\n",
      "flatten (Flatten)            (None, 49)                0         \n",
      "_________________________________________________________________\n",
      "dense (Dense)                (None, 11)                550       \n",
      "=================================================================\n",
      "Total params: 875\n",
      "Trainable params: 875\n",
      "Non-trainable params: 0\n",
      "_________________________________________________________________\n"
     ]
    }
   ],
   "source": [
    "\n",
    "tf.random.set_seed(42)\n",
    "np.random.seed(42)\n",
    "\n",
    "denoising_encoder = keras.models.Sequential([\n",
    "    keras.layers.Reshape((28, 28, 1), input_shape=(28, 28)),\n",
    "    keras.layers.Conv2D(1, kernel_size=18, padding=\"same\", activation=\"relu\"),\n",
    "    keras.layers.MaxPool2D(pool_size=4),\n",
    "    keras.layers.Flatten(),\n",
    "    keras.layers.Dense(11, activation=\"relu\"),\n",
    "])\n",
    "denoising_encoder.summary()"
   ]
  },
  {
   "cell_type": "code",
   "execution_count": 12,
   "metadata": {},
   "outputs": [
    {
     "name": "stdout",
     "output_type": "stream",
     "text": [
      "Model: \"sequential_1\"\n",
      "_________________________________________________________________\n",
      "Layer (type)                 Output Shape              Param #   \n",
      "=================================================================\n",
      "dense_1 (Dense)              (None, 196)               2352      \n",
      "_________________________________________________________________\n",
      "reshape_1 (Reshape)          (None, 14, 14, 1)         0         \n",
      "_________________________________________________________________\n",
      "conv2d_transpose (Conv2DTran (None, 28, 28, 1)         325       \n",
      "=================================================================\n",
      "Total params: 2,677\n",
      "Trainable params: 2,677\n",
      "Non-trainable params: 0\n",
      "_________________________________________________________________\n"
     ]
    }
   ],
   "source": [
    "denoising_decoder = keras.models.Sequential([\n",
    "    keras.layers.Dense(14*14 * 1, activation=\"relu\", input_shape=[11]),\n",
    "    keras.layers.Reshape([14, 14, 1]),\n",
    "    keras.layers.Conv2DTranspose(filters=1, kernel_size=18, strides=2,\n",
    "                                 padding=\"same\", activation=\"sigmoid\")\n",
    "])\n",
    "denoising_decoder.summary()"
   ]
  },
  {
   "cell_type": "code",
   "execution_count": 13,
   "metadata": {},
   "outputs": [
    {
     "name": "stdout",
     "output_type": "stream",
     "text": [
      "Model: \"sequential_2\"\n",
      "_________________________________________________________________\n",
      "Layer (type)                 Output Shape              Param #   \n",
      "=================================================================\n",
      "sequential (Sequential)      (None, 11)                875       \n",
      "_________________________________________________________________\n",
      "sequential_1 (Sequential)    (None, 28, 28, 1)         2677      \n",
      "=================================================================\n",
      "Total params: 3,552\n",
      "Trainable params: 3,552\n",
      "Non-trainable params: 0\n",
      "_________________________________________________________________\n"
     ]
    }
   ],
   "source": [
    "denoising_ae = keras.models.Sequential([denoising_encoder, denoising_decoder])\n",
    "denoising_ae.summary()"
   ]
  },
  {
   "cell_type": "code",
   "execution_count": 14,
   "metadata": {
    "scrolled": false
   },
   "outputs": [
    {
     "name": "stdout",
     "output_type": "stream",
     "text": [
      "Epoch 1/40\n",
      "579/579 [==============================] - 3s 5ms/step - loss: 0.2779 - mse: 0.0708 - val_loss: 0.2261 - val_mse: 0.0546\n",
      "Epoch 2/40\n",
      "579/579 [==============================] - 3s 4ms/step - loss: 0.2105 - mse: 0.0491 - val_loss: 0.1997 - val_mse: 0.0455\n",
      "Epoch 3/40\n",
      "579/579 [==============================] - 2s 4ms/step - loss: 0.1929 - mse: 0.0431 - val_loss: 0.1915 - val_mse: 0.0428\n",
      "Epoch 4/40\n",
      "579/579 [==============================] - 3s 4ms/step - loss: 0.1865 - mse: 0.0410 - val_loss: 0.1845 - val_mse: 0.0405\n",
      "Epoch 5/40\n",
      "579/579 [==============================] - 3s 4ms/step - loss: 0.1831 - mse: 0.0399 - val_loss: 0.1810 - val_mse: 0.0393\n",
      "Epoch 6/40\n",
      "579/579 [==============================] - 3s 4ms/step - loss: 0.1808 - mse: 0.0392 - val_loss: 0.1804 - val_mse: 0.0393\n",
      "Epoch 7/40\n",
      "579/579 [==============================] - 3s 5ms/step - loss: 0.1790 - mse: 0.0387 - val_loss: 0.1785 - val_mse: 0.0386\n",
      "Epoch 8/40\n",
      "579/579 [==============================] - 3s 5ms/step - loss: 0.1778 - mse: 0.0383 - val_loss: 0.1777 - val_mse: 0.0385\n",
      "Epoch 9/40\n",
      "579/579 [==============================] - 3s 5ms/step - loss: 0.1768 - mse: 0.0380 - val_loss: 0.1765 - val_mse: 0.0380\n",
      "Epoch 10/40\n",
      "579/579 [==============================] - 3s 5ms/step - loss: 0.1761 - mse: 0.0377 - val_loss: 0.1746 - val_mse: 0.0373\n",
      "Epoch 11/40\n",
      "579/579 [==============================] - 3s 5ms/step - loss: 0.1754 - mse: 0.0375 - val_loss: 0.1755 - val_mse: 0.0376\n",
      "Epoch 12/40\n",
      "579/579 [==============================] - 3s 5ms/step - loss: 0.1749 - mse: 0.0374 - val_loss: 0.1743 - val_mse: 0.0372\n",
      "Epoch 13/40\n",
      "579/579 [==============================] - 3s 5ms/step - loss: 0.1745 - mse: 0.0372 - val_loss: 0.1745 - val_mse: 0.0374\n",
      "Epoch 14/40\n",
      "579/579 [==============================] - 3s 5ms/step - loss: 0.1741 - mse: 0.0371 - val_loss: 0.1734 - val_mse: 0.0369\n",
      "Epoch 15/40\n",
      "579/579 [==============================] - 3s 5ms/step - loss: 0.1738 - mse: 0.0370 - val_loss: 0.1732 - val_mse: 0.0369\n",
      "Epoch 16/40\n",
      "579/579 [==============================] - 3s 5ms/step - loss: 0.1734 - mse: 0.0369 - val_loss: 0.1743 - val_mse: 0.0373\n",
      "Epoch 17/40\n",
      "579/579 [==============================] - 3s 5ms/step - loss: 0.1731 - mse: 0.0368 - val_loss: 0.1726 - val_mse: 0.0367\n",
      "Epoch 18/40\n",
      "579/579 [==============================] - 3s 5ms/step - loss: 0.1727 - mse: 0.0366 - val_loss: 0.1724 - val_mse: 0.0366\n",
      "Epoch 19/40\n",
      "579/579 [==============================] - 3s 5ms/step - loss: 0.1724 - mse: 0.0365 - val_loss: 0.1725 - val_mse: 0.0366\n",
      "Epoch 20/40\n",
      "579/579 [==============================] - 3s 5ms/step - loss: 0.1722 - mse: 0.0365 - val_loss: 0.1713 - val_mse: 0.0362\n",
      "Epoch 21/40\n",
      "579/579 [==============================] - 3s 5ms/step - loss: 0.1719 - mse: 0.0363 - val_loss: 0.1711 - val_mse: 0.0361\n",
      "Epoch 22/40\n",
      "579/579 [==============================] - 3s 5ms/step - loss: 0.1716 - mse: 0.0363 - val_loss: 0.1716 - val_mse: 0.0363\n",
      "Epoch 23/40\n",
      "579/579 [==============================] - 3s 5ms/step - loss: 0.1714 - mse: 0.0362 - val_loss: 0.1716 - val_mse: 0.0363\n",
      "Epoch 24/40\n",
      "579/579 [==============================] - 3s 5ms/step - loss: 0.1712 - mse: 0.0361 - val_loss: 0.1706 - val_mse: 0.0360\n",
      "Epoch 25/40\n",
      "579/579 [==============================] - 3s 5ms/step - loss: 0.1711 - mse: 0.0361 - val_loss: 0.1707 - val_mse: 0.0360\n",
      "Epoch 26/40\n",
      "579/579 [==============================] - 3s 5ms/step - loss: 0.1709 - mse: 0.0360 - val_loss: 0.1708 - val_mse: 0.0360\n",
      "Epoch 27/40\n",
      "579/579 [==============================] - 3s 5ms/step - loss: 0.1708 - mse: 0.0360 - val_loss: 0.1705 - val_mse: 0.0360\n",
      "Epoch 28/40\n",
      "579/579 [==============================] - 3s 5ms/step - loss: 0.1706 - mse: 0.0359 - val_loss: 0.1698 - val_mse: 0.0357\n",
      "Epoch 29/40\n",
      "579/579 [==============================] - 3s 5ms/step - loss: 0.1705 - mse: 0.0359 - val_loss: 0.1703 - val_mse: 0.0358\n",
      "Epoch 30/40\n",
      "579/579 [==============================] - 3s 5ms/step - loss: 0.1704 - mse: 0.0358 - val_loss: 0.1698 - val_mse: 0.0357\n",
      "Epoch 31/40\n",
      "579/579 [==============================] - 3s 5ms/step - loss: 0.1703 - mse: 0.0358 - val_loss: 0.1696 - val_mse: 0.0356\n",
      "Epoch 32/40\n",
      "579/579 [==============================] - 3s 5ms/step - loss: 0.1702 - mse: 0.0358 - val_loss: 0.1701 - val_mse: 0.0358\n",
      "Epoch 33/40\n",
      "579/579 [==============================] - 3s 5ms/step - loss: 0.1701 - mse: 0.0357 - val_loss: 0.1699 - val_mse: 0.0357\n",
      "Epoch 34/40\n",
      "579/579 [==============================] - 3s 5ms/step - loss: 0.1699 - mse: 0.0357 - val_loss: 0.1695 - val_mse: 0.0356\n",
      "Epoch 35/40\n",
      "579/579 [==============================] - 3s 5ms/step - loss: 0.1698 - mse: 0.0356 - val_loss: 0.1696 - val_mse: 0.0356\n",
      "Epoch 36/40\n",
      "579/579 [==============================] - 3s 5ms/step - loss: 0.1697 - mse: 0.0356 - val_loss: 0.1696 - val_mse: 0.0356\n",
      "Epoch 37/40\n",
      "579/579 [==============================] - 3s 5ms/step - loss: 0.1696 - mse: 0.0356 - val_loss: 0.1697 - val_mse: 0.0357\n",
      "Epoch 38/40\n",
      "579/579 [==============================] - 3s 5ms/step - loss: 0.1695 - mse: 0.0355 - val_loss: 0.1689 - val_mse: 0.0354\n",
      "Epoch 39/40\n",
      "579/579 [==============================] - 3s 5ms/step - loss: 0.1694 - mse: 0.0355 - val_loss: 0.1689 - val_mse: 0.0354\n",
      "Epoch 40/40\n",
      "579/579 [==============================] - 3s 5ms/step - loss: 0.1694 - mse: 0.0355 - val_loss: 0.1688 - val_mse: 0.0353\n"
     ]
    }
   ],
   "source": [
    "checkpoint_cb = keras.callbacks.ModelCheckpoint(\"model4.h5\",\n",
    "                                                save_best_only=True)\n",
    "denoising_ae.compile(loss=\"binary_crossentropy\", optimizer=keras.optimizers.Nadam(),\n",
    "                     metrics=[\"mse\"])\n",
    "history = denoising_ae.fit(X_train, y_train, epochs=40,\n",
    "                           validation_data=(X_valid, y_valid), batch_size = 64, callbacks=[checkpoint_cb])"
   ]
  },
  {
   "cell_type": "code",
   "execution_count": 15,
   "metadata": {},
   "outputs": [],
   "source": [
    "model = keras.models.load_model(\"model4.h5\") #Rollback to best mode"
   ]
  },
  {
   "cell_type": "code",
   "execution_count": 16,
   "metadata": {
    "scrolled": false
   },
   "outputs": [
    {
     "data": {
      "image/png": "[encoded data removed]",
      "text/plain": [
       "<Figure size 432x720 with 10 Axes>"
      ]
     },
     "metadata": {
      "needs_background": "light"
     },
     "output_type": "display_data"
    }
   ],
   "source": [
    "n_images = 5\n",
    "new_images = X_test[:n_images]\n",
    "new_images_denoised = model.predict(new_images)\n",
    "\n",
    "plt.figure(figsize=(6, n_images * 2))\n",
    "for index in range(n_images):\n",
    "    plt.subplot(n_images, 3, index * 3 + 1)\n",
    "    plt.imshow(new_images[index])\n",
    "    plt.axis('off')\n",
    "    if index == 0:\n",
    "        plt.title(\"Original\")\n",
    "    plt.subplot(n_images, 3, index * 3 + 3)\n",
    "    plt.imshow(new_images_denoised[index])\n",
    "    plt.axis('off')\n",
    "    if index == 0:\n",
    "        plt.title(\"Denoised\")\n",
    "plt.show()"
   ]
  }
 ],
 "metadata": {
  "kernelspec": {
   "display_name": "Python 3",
   "language": "python",
   "name": "python3"
  },
  "language_info": {
   "codemirror_mode": {
    "name": "ipython",
    "version": 3
   },
   "file_extension": ".py",
   "mimetype": "text/x-python",
   "name": "python",
   "nbconvert_exporter": "python",
   "pygments_lexer": "ipython3",
   "version": "3.7.6"
  }
 },
 "nbformat": 4,
 "nbformat_minor": 4
}
