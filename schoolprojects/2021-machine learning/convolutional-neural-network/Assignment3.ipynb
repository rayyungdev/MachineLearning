{
 "cells": [
  {
   "cell_type": "code",
   "execution_count": 1,
   "metadata": {},
   "outputs": [],
   "source": [
    "import os\n",
    "import tarfile\n",
    "import urllib\n",
    "import numpy as np\n",
    "import pickle\n",
    "import pandas as pd\n",
    "import datetime\n",
    "import numpy as np"
   ]
  },
  {
   "cell_type": "code",
   "execution_count": 2,
   "metadata": {},
   "outputs": [],
   "source": [
    "os.environ['TF_FORCE_GPU_ALLOW_GROWTH'] = 'true'\n",
    "X_PATH = '../datasets/project3trainset.pkl';\n",
    "Y_PATH = '../datasets/project3trainlabel.pkl';"
   ]
  },
  {
   "cell_type": "code",
   "execution_count": 3,
   "metadata": {},
   "outputs": [],
   "source": [
    "def load_data(path):\n",
    "    return pd.read_pickle(path)"
   ]
  },
  {
   "cell_type": "code",
   "execution_count": 4,
   "metadata": {},
   "outputs": [],
   "source": [
    "#Load Initial Data\n",
    "x_training = load_data(X_PATH)\n",
    "y_labels = load_data(Y_PATH)"
   ]
  },
  {
   "cell_type": "code",
   "execution_count": 5,
   "metadata": {},
   "outputs": [],
   "source": [
    "## View how Data is arranged\n",
    "from matplotlib import pyplot as plt"
   ]
  },
  {
   "cell_type": "code",
   "execution_count": 6,
   "metadata": {
    "scrolled": true
   },
   "outputs": [
    {
     "data": {
      "image/png": "[encoded data removed]",
      "text/plain": [
       "<Figure size 432x288 with 1 Axes>"
      ]
     },
     "metadata": {
      "needs_background": "light"
     },
     "output_type": "display_data"
    }
   ],
   "source": [
    "plt.imshow(x_training[0], cmap = 'gray');\n",
    "#We can see from the values here that they go above 255 values. We want to convert this to 255 values. "
   ]
  },
  {
   "cell_type": "code",
   "execution_count": 7,
   "metadata": {},
   "outputs": [],
   "source": [
    "class_names = [\"T-shirt/top\", \"Trouser\", \"Pullover\", \"Dress\", \"Coat\",\n",
    "               \"Sandal\", \"Shirt\", \"Sneaker\", \"Bag\", \"Ankle boot\"]\n",
    "## This is from chapter 10"
   ]
  },
  {
   "cell_type": "code",
   "execution_count": 8,
   "metadata": {},
   "outputs": [],
   "source": [
    "# Create 2 filters\n",
    "import tensorflow as tf\n",
    "from tensorflow import keras\n",
    "assert tf.__version__ >= \"2.0\"\n",
    "\n",
    "filters = np.zeros(shape=(7, 7, 1, 2), dtype=np.float32)\n",
    "filters[:, 3, :, 0] = 1  # vertical line\n",
    "filters[3, :, :, 1] = 1  # horizontal line\n",
    "\n",
    "# to make this notebook's output stable across runs\n",
    "np.random.seed(42)\n",
    "tf.random.set_seed(42)"
   ]
  },
  {
   "cell_type": "code",
   "execution_count": 9,
   "metadata": {},
   "outputs": [
    {
     "name": "stdout",
     "output_type": "stream",
     "text": [
      "(38500, 28, 28)\n",
      "(33500, 28, 28)\n",
      "(5000, 28, 28)\n",
      "(16500, 28, 28)\n"
     ]
    }
   ],
   "source": [
    "from sklearn.model_selection import train_test_split\n",
    "X_train_full, X_test, y_train_full, y_test=train_test_split(x_training, y_labels, test_size=.3, stratify = y_labels,random_state = 0)\n",
    "\n",
    "X_train, X_valid = X_train_full[:-5000], X_train_full[-5000:]\n",
    "y_train, y_valid = y_train_full[:-5000], y_train_full[-5000:]\n",
    "\n",
    "X_mean = X_train.mean(axis=0, keepdims=True)\n",
    "X_std = X_train.std(axis=0, keepdims=True) + 1e-7\n",
    "X_train = (X_train - X_mean) / X_std\n",
    "X_valid = (X_valid - X_mean) / X_std\n",
    "X_test = (X_test - X_mean) / X_std\n",
    "\n",
    "#X_train = X_train[..., np.newaxis]\n",
    "#X_valid = X_valid[..., np.newaxis]\n",
    "#X_test = X_test[..., np.newaxis]\n",
    "\n",
    "print(np.shape(X_train_full))\n",
    "print(np.shape(X_train))\n",
    "print(np.shape(X_valid))\n",
    "print(np.shape(X_test))"
   ]
  },
  {
   "cell_type": "code",
   "execution_count": 10,
   "metadata": {},
   "outputs": [],
   "source": [
    "from functools import partial\n",
    "keras.backend.clear_session()\n",
    "\n",
    "DefaultConv2D = partial(keras.layers.Conv2D,\n",
    "                        kernel_size=4, activation='relu', padding=\"SAME\")\n",
    "\n",
    "model = keras.models.Sequential([\n",
    "    keras.layers.Reshape((28, 28, 1), input_shape=(28, 28)),\n",
    "    ## conv2D 1\n",
    "    DefaultConv2D(filters=16, kernel_size=4, input_shape=[28, 28, 1]),\n",
    "    keras.layers.MaxPooling2D(pool_size=(3)),\n",
    "    ## conv2D 2\n",
    "    DefaultConv2D(filters=32),\n",
    "    keras.layers.MaxPooling2D(pool_size=(2)),\n",
    "    ## conv2D 3\n",
    "    DefaultConv2D(filters=64),\n",
    "    keras.layers.MaxPooling2D(pool_size=(3)),\n",
    "    ## Flatten\n",
    "    keras.layers.Flatten(),\n",
    "    keras.layers.Dense(units=64, activation='relu'),\n",
    "    keras.layers.Dropout(0.25),\n",
    "    keras.layers.Dense(units=32, activation='relu'),\n",
    "    keras.layers.Dropout(0.5),\n",
    "    keras.layers.Dense(units=10, activation='softmax'),\n",
    "])\n",
    "\n",
    "### 295168 Total Parameters === We need this to be less than 50k. "
   ]
  },
  {
   "cell_type": "code",
   "execution_count": 11,
   "metadata": {},
   "outputs": [
    {
     "name": "stdout",
     "output_type": "stream",
     "text": [
      "Epoch 1/30\n",
      "1047/1047 [==============================] - 5s 5ms/step - loss: 1.0180 - sparse_categorical_accuracy: 0.6264 - val_loss: 0.5861 - val_sparse_categorical_accuracy: 0.7786\n",
      "Epoch 2/30\n",
      "1047/1047 [==============================] - 5s 5ms/step - loss: 0.6571 - sparse_categorical_accuracy: 0.7664 - val_loss: 0.5173 - val_sparse_categorical_accuracy: 0.8072\n",
      "Epoch 3/30\n",
      "1047/1047 [==============================] - 5s 5ms/step - loss: 0.5820 - sparse_categorical_accuracy: 0.7932 - val_loss: 0.4787 - val_sparse_categorical_accuracy: 0.8222\n",
      "Epoch 4/30\n",
      "1047/1047 [==============================] - 5s 5ms/step - loss: 0.5372 - sparse_categorical_accuracy: 0.8078 - val_loss: 0.4733 - val_sparse_categorical_accuracy: 0.8216\n",
      "Epoch 5/30\n",
      "1047/1047 [==============================] - 5s 5ms/step - loss: 0.5046 - sparse_categorical_accuracy: 0.8247 - val_loss: 0.4552 - val_sparse_categorical_accuracy: 0.8340\n",
      "Epoch 6/30\n",
      "1047/1047 [==============================] - 5s 5ms/step - loss: 0.4795 - sparse_categorical_accuracy: 0.8339 - val_loss: 0.4374 - val_sparse_categorical_accuracy: 0.8416\n",
      "Epoch 7/30\n",
      "1047/1047 [==============================] - 5s 5ms/step - loss: 0.4605 - sparse_categorical_accuracy: 0.8419 - val_loss: 0.4394 - val_sparse_categorical_accuracy: 0.8470\n",
      "Epoch 8/30\n",
      "1047/1047 [==============================] - 5s 5ms/step - loss: 0.4340 - sparse_categorical_accuracy: 0.8482 - val_loss: 0.4307 - val_sparse_categorical_accuracy: 0.8460\n",
      "Epoch 9/30\n",
      "1047/1047 [==============================] - 5s 5ms/step - loss: 0.4188 - sparse_categorical_accuracy: 0.8531 - val_loss: 0.4529 - val_sparse_categorical_accuracy: 0.8428\n",
      "Epoch 10/30\n",
      "1047/1047 [==============================] - 5s 5ms/step - loss: 0.4039 - sparse_categorical_accuracy: 0.8589 - val_loss: 0.4838 - val_sparse_categorical_accuracy: 0.8356\n",
      "Epoch 11/30\n",
      "1047/1047 [==============================] - 7s 7ms/step - loss: 0.3920 - sparse_categorical_accuracy: 0.8613 - val_loss: 0.4602 - val_sparse_categorical_accuracy: 0.8452\n",
      "Epoch 12/30\n",
      "1047/1047 [==============================] - 7s 7ms/step - loss: 0.3784 - sparse_categorical_accuracy: 0.8636 - val_loss: 0.4633 - val_sparse_categorical_accuracy: 0.8438\n",
      "Epoch 13/30\n",
      "1047/1047 [==============================] - 7s 6ms/step - loss: 0.3683 - sparse_categorical_accuracy: 0.8684 - val_loss: 0.4719 - val_sparse_categorical_accuracy: 0.8472\n",
      "Epoch 14/30\n",
      "1047/1047 [==============================] - 7s 6ms/step - loss: 0.3564 - sparse_categorical_accuracy: 0.8749 - val_loss: 0.4530 - val_sparse_categorical_accuracy: 0.8534\n",
      "Epoch 15/30\n",
      "1047/1047 [==============================] - 7s 7ms/step - loss: 0.3466 - sparse_categorical_accuracy: 0.8781 - val_loss: 0.4747 - val_sparse_categorical_accuracy: 0.8500\n",
      "Epoch 16/30\n",
      "1047/1047 [==============================] - 7s 6ms/step - loss: 0.3379 - sparse_categorical_accuracy: 0.8811 - val_loss: 0.4926 - val_sparse_categorical_accuracy: 0.8454\n",
      "Epoch 17/30\n",
      "1047/1047 [==============================] - 7s 7ms/step - loss: 0.3254 - sparse_categorical_accuracy: 0.8835 - val_loss: 0.5065 - val_sparse_categorical_accuracy: 0.8466\n",
      "Epoch 18/30\n",
      "1047/1047 [==============================] - 6s 6ms/step - loss: 0.3177 - sparse_categorical_accuracy: 0.8874 - val_loss: 0.4872 - val_sparse_categorical_accuracy: 0.8502\n",
      "Epoch 19/30\n",
      "1047/1047 [==============================] - 5s 5ms/step - loss: 0.3107 - sparse_categorical_accuracy: 0.8900 - val_loss: 0.5165 - val_sparse_categorical_accuracy: 0.8508\n",
      "Epoch 20/30\n",
      "1047/1047 [==============================] - 6s 6ms/step - loss: 0.3029 - sparse_categorical_accuracy: 0.8922 - val_loss: 0.5156 - val_sparse_categorical_accuracy: 0.8460\n",
      "Epoch 21/30\n",
      "1047/1047 [==============================] - 7s 7ms/step - loss: 0.2918 - sparse_categorical_accuracy: 0.8962 - val_loss: 0.5376 - val_sparse_categorical_accuracy: 0.8500\n",
      "Epoch 22/30\n",
      "1047/1047 [==============================] - 8s 7ms/step - loss: 0.2890 - sparse_categorical_accuracy: 0.8956 - val_loss: 0.5614 - val_sparse_categorical_accuracy: 0.8510\n",
      "Epoch 23/30\n",
      "1047/1047 [==============================] - 8s 7ms/step - loss: 0.2763 - sparse_categorical_accuracy: 0.9005 - val_loss: 0.5783 - val_sparse_categorical_accuracy: 0.8474\n",
      "Epoch 24/30\n",
      "1047/1047 [==============================] - 8s 7ms/step - loss: 0.2745 - sparse_categorical_accuracy: 0.9008 - val_loss: 0.5919 - val_sparse_categorical_accuracy: 0.8518\n",
      "Epoch 25/30\n",
      "1047/1047 [==============================] - 7s 7ms/step - loss: 0.2612 - sparse_categorical_accuracy: 0.9059 - val_loss: 0.6395 - val_sparse_categorical_accuracy: 0.8480\n",
      "Epoch 26/30\n",
      "1047/1047 [==============================] - 8s 7ms/step - loss: 0.2637 - sparse_categorical_accuracy: 0.9062 - val_loss: 0.6279 - val_sparse_categorical_accuracy: 0.8442\n",
      "Epoch 27/30\n",
      "1047/1047 [==============================] - 7s 7ms/step - loss: 0.2541 - sparse_categorical_accuracy: 0.9085 - val_loss: 0.5838 - val_sparse_categorical_accuracy: 0.8466\n",
      "Epoch 28/30\n",
      "1047/1047 [==============================] - 8s 7ms/step - loss: 0.2521 - sparse_categorical_accuracy: 0.9085 - val_loss: 0.6115 - val_sparse_categorical_accuracy: 0.8480\n",
      "Epoch 29/30\n",
      "1047/1047 [==============================] - 8s 7ms/step - loss: 0.2438 - sparse_categorical_accuracy: 0.9125 - val_loss: 0.6795 - val_sparse_categorical_accuracy: 0.8468\n",
      "Epoch 30/30\n",
      "1047/1047 [==============================] - 8s 7ms/step - loss: 0.2362 - sparse_categorical_accuracy: 0.9150 - val_loss: 0.7298 - val_sparse_categorical_accuracy: 0.8458\n",
      "516/516 [==============================] - 2s 4ms/step - loss: 0.4110 - sparse_categorical_accuracy: 0.8573\n"
     ]
    }
   ],
   "source": [
    "#%%\n",
    "checkpoint_cb = keras.callbacks.ModelCheckpoint(\"model3.h5\",\n",
    "                                                save_best_only=True)\n",
    "early_stopping_cb = keras.callbacks.EarlyStopping(patience=5,\n",
    "                                                  restore_best_weights=True)\n",
    "\n",
    "model.compile(loss=\"sparse_categorical_crossentropy\", optimizer=\"nadam\", metrics=[\"sparse_categorical_accuracy\"])\n",
    "history = model.fit(X_train, y_train, epochs=30, validation_data=(X_valid, y_valid), callbacks=[checkpoint_cb])\n",
    "model = keras.models.load_model(\"model3.h5\") #Rollback to best model\n",
    "score = model.evaluate(X_test, y_test)\n",
    "X_new = X_test[:10] # pretend we have new images"
   ]
  },
  {
   "cell_type": "code",
   "execution_count": 12,
   "metadata": {},
   "outputs": [
    {
     "data": {
      "image/png": "[encoded data removed]",
      "text/plain": [
       "<Figure size 432x288 with 1 Axes>"
      ]
     },
     "metadata": {
      "needs_background": "light"
     },
     "output_type": "display_data"
    }
   ],
   "source": [
    "plt.imshow(X_test[0, :, :], cmap=\"gray\"); # plot 1st image's 2nd feature map"
   ]
  },
  {
   "cell_type": "code",
   "execution_count": 13,
   "metadata": {
    "scrolled": true
   },
   "outputs": [
    {
     "name": "stdout",
     "output_type": "stream",
     "text": [
      "Model: \"sequential\"\n",
      "_________________________________________________________________\n",
      "Layer (type)                 Output Shape              Param #   \n",
      "=================================================================\n",
      "reshape (Reshape)            (None, 28, 28, 1)         0         \n",
      "_________________________________________________________________\n",
      "conv2d (Conv2D)              (None, 28, 28, 16)        272       \n",
      "_________________________________________________________________\n",
      "max_pooling2d (MaxPooling2D) (None, 9, 9, 16)          0         \n",
      "_________________________________________________________________\n",
      "conv2d_1 (Conv2D)            (None, 9, 9, 32)          8224      \n",
      "_________________________________________________________________\n",
      "max_pooling2d_1 (MaxPooling2 (None, 4, 4, 32)          0         \n",
      "_________________________________________________________________\n",
      "conv2d_2 (Conv2D)            (None, 4, 4, 64)          32832     \n",
      "_________________________________________________________________\n",
      "max_pooling2d_2 (MaxPooling2 (None, 1, 1, 64)          0         \n",
      "_________________________________________________________________\n",
      "flatten (Flatten)            (None, 64)                0         \n",
      "_________________________________________________________________\n",
      "dense (Dense)                (None, 64)                4160      \n",
      "_________________________________________________________________\n",
      "dropout (Dropout)            (None, 64)                0         \n",
      "_________________________________________________________________\n",
      "dense_1 (Dense)              (None, 32)                2080      \n",
      "_________________________________________________________________\n",
      "dropout_1 (Dropout)          (None, 32)                0         \n",
      "_________________________________________________________________\n",
      "dense_2 (Dense)              (None, 10)                330       \n",
      "=================================================================\n",
      "Total params: 47,898\n",
      "Trainable params: 47,898\n",
      "Non-trainable params: 0\n",
      "_________________________________________________________________\n"
     ]
    }
   ],
   "source": [
    "model.summary()"
   ]
  },
  {
   "cell_type": "code",
   "execution_count": 14,
   "metadata": {},
   "outputs": [
    {
     "data": {
      "image/png": "[encoded data removed]",
      "text/plain": [
       "<Figure size 288x288 with 1 Axes>"
      ]
     },
     "metadata": {
      "needs_background": "light"
     },
     "output_type": "display_data"
    }
   ],
   "source": [
    "from matplotlib import pyplot as plt\n",
    "from sklearn.metrics import confusion_matrix\n",
    "from sklearn.model_selection import cross_val_predict\n",
    "\n",
    "predictions = np.argmax(model.predict(X_test), axis=-1)\n",
    "model_confusion_train = confusion_matrix(y_test, predictions);\n",
    "\n",
    "plt.matshow(model_confusion_train, cmap=plt.cm.gray)\n",
    "plt.show()"
   ]
  },
  {
   "cell_type": "code",
   "execution_count": 17,
   "metadata": {},
   "outputs": [],
   "source": [
    "model.save(\"model3.h5\")\n",
    "test = keras.models.load_model(\"model3.h5\")"
   ]
  },
  {
   "cell_type": "code",
   "execution_count": 18,
   "metadata": {},
   "outputs": [
    {
     "name": "stdout",
     "output_type": "stream",
     "text": [
      "516/516 [==============================] - 1s 3ms/step - loss: 0.4110 - sparse_categorical_accuracy: 0.8573\n"
     ]
    }
   ],
   "source": [
    "score_test= test.evaluate(X_test, y_test)"
   ]
  },
  {
   "cell_type": "code",
   "execution_count": 15,
   "metadata": {},
   "outputs": [],
   "source": [
    "### OFFICLLY I HAVE 40K PARAMETERS WHICH IS LESS THAN 50K PARAMETERS"
   ]
  },
  {
   "cell_type": "raw",
   "metadata": {},
   "source": [
    "from functools import partial\n",
    "keras.backend.clear_session()\n",
    "\n",
    "DefaultConv2D = partial(keras.layers.Conv2D,\n",
    "                        kernel_size=4, activation='relu', padding=\"SAME\")\n",
    "\n",
    "def build_model(n_hidden=2, f_val = 16):\n",
    "    model = keras.models.Sequential()\n",
    "    model.add(keras.layers.Reshape((28, 28, 1), input_shape=(28, 28)))\n",
    "    model.add(DefaultConv2D(filters=f_val, kernel_size=4, input_shape=[28, 28, 1]))\n",
    "    model.add(keras.layers.MaxPooling2D(pool_size=(3)))\n",
    "    \n",
    "    for layers in range(n_hidden):\n",
    "        t = f_val*(2**(layers+1))\n",
    "        model.add(DefaultConv2D(filters=t, kernel_size = 4))\n",
    "        model.add(keras.layers.MaxPooling2D(pool_size=(3)))\n",
    "    model.add(keras.layers.Flatten())\n",
    "    model.add(keras.layers.Dense(units=64, activation='relu'))\n",
    "    model.add(keras.layers.Dropout(0.25))\n",
    "    model.add(keras.layers.Dense(units=32, activation='relu'))\n",
    "    model.add(keras.layers.Dropout(0.5))\n",
    "    model.add(keras.layers.Dense(units=10, activation='softmax'))\n",
    "    model.compile(loss=\"sparse_categorical_crossentropy\", optimizer=\"nadam\", metrics=[\"accuracy\"])\n",
    "    return model\n",
    "keras_reg = keras.wrappers.scikit_learn.KerasClassifier(build_model)"
   ]
  },
  {
   "cell_type": "raw",
   "metadata": {},
   "source": [
    "checkpoint_cb = keras.callbacks.ModelCheckpoint(\"fuck.h5\",\n",
    "                                                save_best_only=True)\n",
    "\n",
    "#history = keras_reg.fit(X_train, y_train, epochs=20, validation_data=(X_valid, y_valid), callbacks=[checkpoint_cb])"
   ]
  },
  {
   "cell_type": "code",
   "execution_count": 16,
   "metadata": {
    "scrolled": true
   },
   "outputs": [],
   "source": [
    "#keras_reg.model.summary()"
   ]
  },
  {
   "cell_type": "raw",
   "metadata": {},
   "source": [
    "np.random.seed(42)\n",
    "tf.random.set_seed(42)\n",
    "#%%\n",
    "from scipy.stats import reciprocal\n",
    "from sklearn.model_selection import GridSearchCV\n",
    "\n",
    "param_distribs = {\n",
    "    \"n_hidden\": [1, 2, 3],\n",
    "    \"f_val\": [4, 8, 16]\n",
    "}"
   ]
  },
  {
   "cell_type": "raw",
   "metadata": {},
   "source": [
    "rnd_search_cv = GridSearchCV(keras_reg, param_distribs)\n",
    "rnd_search_cv.fit(X_train, y_train, epochs= 20,\n",
    "                  validation_data=(X_valid, y_valid),\n",
    "                  callbacks=[checkpoint_cb, keras.callbacks.EarlyStopping(patience=5)])"
   ]
  },
  {
   "cell_type": "raw",
   "metadata": {},
   "source": [
    "print(rnd_search_cv.best_params_)\n",
    "print(rnd_search_cv.best_score_)"
   ]
  },
  {
   "cell_type": "raw",
   "metadata": {},
   "source": [
    "score = rnd_search_cv.model.evaluate(X_test, y_test)\n",
    "X_new = X_test[:10] # pretend we have new images"
   ]
  }
 ],
 "metadata": {
  "kernelspec": {
   "display_name": "Python 3",
   "language": "python",
   "name": "python3"
  },
  "language_info": {
   "codemirror_mode": {
    "name": "ipython",
    "version": 3
   },
   "file_extension": ".py",
   "mimetype": "text/x-python",
   "name": "python",
   "nbconvert_exporter": "python",
   "pygments_lexer": "ipython3",
   "version": "3.7.6"
  }
 },
 "nbformat": 4,
 "nbformat_minor": 4
}
