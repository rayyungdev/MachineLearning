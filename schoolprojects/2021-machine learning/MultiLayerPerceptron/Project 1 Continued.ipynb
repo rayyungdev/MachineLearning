{
 "cells": [
  {
   "cell_type": "markdown",
   "metadata": {},
   "source": [
    "**Raymond Yung**  \n",
    "**Project 1**"
   ]
  },
  {
   "cell_type": "code",
   "execution_count": 1,
   "metadata": {},
   "outputs": [],
   "source": [
    "import sys\n",
    "# Scikit-Learn ≥0.20 is required\n",
    "import sklearn\n",
    "# Common imports\n",
    "import numpy as np\n",
    "import os"
   ]
  },
  {
   "cell_type": "code",
   "execution_count": 2,
   "metadata": {},
   "outputs": [],
   "source": [
    "from sklearn.datasets import fetch_openml\n",
    "mnist = fetch_openml('mnist_784', version=1)"
   ]
  },
  {
   "cell_type": "code",
   "execution_count": 3,
   "metadata": {},
   "outputs": [],
   "source": [
    "X, y = mnist[\"data\"].to_numpy(), mnist[\"target\"].to_numpy()\n",
    "y = y.astype(np.uint8)"
   ]
  },
  {
   "cell_type": "code",
   "execution_count": 4,
   "metadata": {},
   "outputs": [],
   "source": [
    "import matplotlib as mpl\n",
    "import matplotlib.pyplot as plt"
   ]
  },
  {
   "cell_type": "code",
   "execution_count": 5,
   "metadata": {
    "scrolled": true
   },
   "outputs": [],
   "source": [
    "def plot_digits(instances, images_per_row=10, **options):\n",
    "    size = 28\n",
    "    images_per_row = min(len(instances), images_per_row)\n",
    "    images = [instance.reshape(size,size) for instance in instances]\n",
    "    n_rows = (len(instances) - 1) // images_per_row + 1\n",
    "    row_images = []\n",
    "    n_empty = n_rows * images_per_row - len(instances)\n",
    "    images.append(np.zeros((size, size * n_empty)))\n",
    "    for row in range(n_rows):\n",
    "        rimages = images[row * images_per_row : (row + 1) * images_per_row]\n",
    "        row_images.append(np.concatenate(rimages, axis=1))\n",
    "    image = np.concatenate(row_images, axis=0)\n",
    "    plt.imshow(image, cmap = mpl.cm.binary, **options)\n",
    "    plt.axis(\"off\")\n",
    "#%%"
   ]
  },
  {
   "cell_type": "markdown",
   "metadata": {},
   "source": [
    "## New attempt at this: \n",
    "\n",
    "One thing I forgot about last time was preprocessing the data. I did not normalize any of my data prior to this..\n",
    "Soo let's preprocess this! Divide all my values by 255 (max value). "
   ]
  },
  {
   "cell_type": "code",
   "execution_count": 6,
   "metadata": {
    "scrolled": true
   },
   "outputs": [
    {
     "data": {
      "image/png": "[encoded data removed]",
      "text/plain": [
       "<Figure size 432x288 with 1 Axes>"
      ]
     },
     "metadata": {
      "needs_background": "light"
     },
     "output_type": "display_data"
    }
   ],
   "source": [
    "X /= 255;\n",
    "X = np.expand_dims(X, 1)\n",
    "plt.imshow(X[0].reshape(28,28)); ## Testing to confirm that it still works"
   ]
  },
  {
   "cell_type": "code",
   "execution_count": 7,
   "metadata": {},
   "outputs": [],
   "source": [
    "def oneHotencode(data):\n",
    "    array_length = len(range(min(data), max(data))) + 1;\n",
    "    onehot_encode = list();\n",
    "    for value in data:\n",
    "        data_encoe = list()\n",
    "        data_encode = [0 for _ in range(array_length)]\n",
    "        data_encode[value] = 1;\n",
    "        data_encode[value] = np.asarray(data_encode[value], np.float32)\n",
    "        onehot_encode.append(data_encode);\n",
    "    return np.asarray(onehot_encode, dtype = np.float32)\n",
    "\n",
    "def oneHotdecode(encoded_data):\n",
    "    decode = list()\n",
    "    #for arr in encoded_data:\n",
    "        #print(arr);\n",
    "    decode.append(np.argmax(encoded_data))\n",
    "    return np.asarray(decode, dtype = np.uint8)"
   ]
  },
  {
   "cell_type": "code",
   "execution_count": 8,
   "metadata": {},
   "outputs": [],
   "source": [
    "y = oneHotencode(y)"
   ]
  },
  {
   "cell_type": "code",
   "execution_count": 9,
   "metadata": {},
   "outputs": [
    {
     "name": "stderr",
     "output_type": "stream",
     "text": [
      "c:\\users\\ry88\\appdata\\local\\programs\\python\\python37\\lib\\site-packages\\matplotlib\\text.py:1215: FutureWarning: elementwise comparison failed; returning scalar instead, but in the future will perform elementwise comparison\n",
      "  if s != self._text:\n"
     ]
    },
    {
     "data": {
      "image/png": "[encoded data removed]",
      "text/plain": [
       "<Figure size 432x288 with 1 Axes>"
      ]
     },
     "metadata": {
      "needs_background": "light"
     },
     "output_type": "display_data"
    }
   ],
   "source": [
    "## Creating Training Set & Testing Set.\n",
    "x_train = X[0:1500]\n",
    "y_train = y[0:1500]\n",
    "x_test = X[2000:3000]\n",
    "y_test= y[2000:3000]\n",
    "plt.imshow(x_test[0].reshape(28,28));\n",
    "plt.title(oneHotdecode(y_test[0]));"
   ]
  },
  {
   "cell_type": "markdown",
   "metadata": {},
   "source": [
    "I've tried 2 methods so far, each one led to overflow: \n",
    "\n",
    "1. Create 1 class, that included activation and softmax. \n",
    "    - Then created two layers from that, 1 for input layer and another for the hidden and output layer\n",
    "2. Created 1 for loop that included all the layers thereby practically doing it manually. \n",
    "    - Led to the same issue.\n",
    "    \n",
    "Time to rethink my methodlogy:  \n",
    "If I think about input/output, this is what's going on:\n",
    "> **InputLayer -> HiddenLayer -> OutputLayer**\n",
    "> - InputLayer: \n",
    "    - Takes in input nodes (784) returns activated nodes (32/64/128 in my case)\n",
    "    - Contains its own weights and biases  \n",
    "    \n",
    "> - Hidden Layer:\n",
    "    - Takes in activated output nodes from L1 (32/64/128)\n",
    "    - Also contains its own weights and biases\n",
    "    - Returns desidered output nodes (10).   \n",
    "    \n",
    "> - Output Layer: \n",
    "    - I don't think this is actually necessary... but the point of it is to convert the output nodes from the HiddenLayer into smething that we can understand.\n",
    "        - Basically my softmax layer. \n",
    "        \n",
    "Practically speaking, I should write my classes by proccess?\n",
    "\n",
    "1. Class 1: X1 -> a1|z1 (Input Layer to Beginnning of Hidden Layer)\n",
    "    - Includes Activation Function and returns activated nodes\n",
    "2. Class 2: a1 -> Y1 (Hidden Layer to output layer). \n",
    "    - Includes softmax function and returns output nodes. \n",
    "\n",
    "This models the basic MLP function: \n",
    "> - Two Step Process: \n",
    "    - $ z_{1}^{(2)} = w_{11}^{(1)}x_{1} + w_{12}^{(1)}x_{2} + b_{1}^{(1)}$\n",
    "        - $^{(i)}$ denotes the layer, with z being the output of the previous layer.\n",
    "        - $w_{ii}$ denotes the weight at the current node\n",
    "        - $x_{i}$ denotes the input   \n",
    "    - Once Z is calculated, is it then immediately put in the activation function to calculate output a. Hence:\n",
    "         - $a_{1}^{(2)} = f(z_{1}^{(2)})$\n",
    "             - Where $f(z)$ is the activation function.  \n",
    "\n",
    "In hindsight, looking at my model in this format, I think I could write 1 class and utilize it twice. Each instance will take an input of another function. Such that Class1 will also take the activation function and Class 2 will take the softmax function.   \n",
    "  \n",
    "**Update :** I want to add here the backward propogation issues I ran and debugged.   \n",
    "I need to take into account the number of nodes as well that enters **and** exits the my (n-1) layers (this is what I call my first layer and hidden layer).  \n",
    "I ran into an issue later on because I forgot that hidden layer's number of input nodes was 32, not 10. Since I combined with this my softmax layer, whos input and output nodes are both 10, it didn't occur ot me that this was the issue. "
   ]
  },
  {
   "cell_type": "code",
   "execution_count": 10,
   "metadata": {},
   "outputs": [],
   "source": [
    "## Start by writing my different functions: \n",
    "\n",
    "#Activation Functions\n",
    "def sigmoid(x):\n",
    "    return 1 / (1 + np.exp(-x))\n",
    "\n",
    "def sigmoid_prime(x):\n",
    "    return np.exp(-x) / (1 + np.exp(-x))**2\n",
    "\n",
    "def tanh(x):\n",
    "    return np.tanh(x)\n",
    "\n",
    "def tanh_prime(x):\n",
    "    return 1 - np.tanh(x)**2\n",
    "\n",
    "def relu(x):\n",
    "    return np.maximum(x, 0)\n",
    "\n",
    "def relu_prime(x):\n",
    "    return np.array(x >= 0).astype('int')\n",
    "\n",
    "\n",
    "#Loss Functions:\n",
    "def mse(y_true, y_pred):\n",
    "    return np.mean(np.power(y_true - y_pred, 2))\n",
    "\n",
    "def mse_prime(y_true, y_pred):\n",
    "    return 2 * (y_pred - y_true) / y_pred.size\n",
    "\n",
    "def sse(y_true, y_pred):\n",
    "    return 0.5 * np.sum(np.power(y_true - y_pred, 2))\n",
    "\n",
    "def sse_prime(y_true, y_pred):\n",
    "    return y_pred - y_true\n",
    "\n",
    "\n",
    "#Softmax Functions:\n",
    "\n",
    "def softmax(input):\n",
    "    tmp = np.exp(input)\n",
    "    f_output = tmp/np.sum(tmp)\n",
    "    return f_output\n",
    "\n",
    "def softmax_prime(output_error, f_input_size, f_output):\n",
    "    # Inputs:\n",
    "        #Output_error from loss function\n",
    "        #Forward Prop Input Size\n",
    "        #output from forward prop softmax\n",
    "    input_error = np.zeros(output_error.shape);\n",
    "    out = np.tile(f_output.T, f_input_size)\n",
    "    return f_output * np.dot(output_error, np.identity(f_input_size) - out)"
   ]
  },
  {
   "cell_type": "code",
   "execution_count": 11,
   "metadata": {},
   "outputs": [],
   "source": [
    "#Creating Class Function for layers:\n",
    "\n",
    "class Layers():\n",
    "    def __init__(self, input_size, output_size, layer_num = 0):\n",
    "        #Initialize Weights for these Input Layer and Hidden Layer\n",
    "        self.input_size = input_size\n",
    "        self.output_size = output_size\n",
    "        self.weights = np.random.randn(input_size, output_size) / np.sqrt(input_size + output_size)\n",
    "        self.bias = np.random.randn(1, output_size) / np.sqrt(input_size + output_size)\n",
    "        self.layer_num = layer_num;\n",
    "        \n",
    "    def forward(self, input, funct):\n",
    "        #Forward Prop... Needs to utilize softmax and activation.\n",
    "        self.input = input\n",
    "        self.a = np.dot(input, self.weights) + self.bias; #This is our a value.\n",
    "        #funct is our activation and softmax function which both takes in 1 variable.\n",
    "        #Remember, a is the input into the activation and softmax, which is what we will need again for the backward prop.\n",
    "        if self.layer_num == 1:\n",
    "            #Softmax Prime layer takes in input from softmax\n",
    "            self.a = funct(self.a);\n",
    "            return self.a\n",
    "        else:\n",
    "            return funct(self.a)\n",
    "    \n",
    "    def backwards(self, output_error, learning_rate, functp):\n",
    "        #functp is our function to designate the backwards prop equations for both our activation function and our softmax function\n",
    "        #At both of our layers here, softmax and activation came after, therefore it should come first in my backwards. \n",
    "        \n",
    "        if self.layer_num == 0:\n",
    "            #Activation Function at Process 1\n",
    "            input_error = output_error * functp(self.a)\n",
    "        if self.layer_num ==1:\n",
    "            input_error = functp(output_error, self.output_size, self.a)\n",
    "            \n",
    "        ## Dealt with the activation and softmax prime layers. Now need to deal propogate this backwards\n",
    "        # Our input errors are now our most recent output errors. Let's use this to propogate our weights. \n",
    "        [input_error, weights_error] = self.update_weights(input_error, learning_rate);\n",
    "        self.weights -= learning_rate * weights_error\n",
    "        self.bias -= learning_rate * output_error\n",
    "        return input_error;\n",
    "    \n",
    "    def update_weights(self, input_error, learning_rate):\n",
    "        #This is basically our n-1 layer, so the inputs our our self.input, not self.a. \n",
    "        input_error = np.dot(input_error, self.weights.T);\n",
    "        weights_error = np.dot(self.input.T, output_error)\n",
    "        return [input_error, weights_error];"
   ]
  },
  {
   "cell_type": "code",
   "execution_count": 12,
   "metadata": {},
   "outputs": [],
   "source": [
    "# Create our our layers:\n",
    "\n",
    "L1_XZ = Layers(784, 32, 0);\n",
    "L2_ZY = Layers(32, 10, 1);\n",
    "\n",
    "FC = [L1_XZ, L2_ZY];"
   ]
  },
  {
   "cell_type": "code",
   "execution_count": 13,
   "metadata": {},
   "outputs": [
    {
     "name": "stdout",
     "output_type": "stream",
     "text": [
      "0.4381973192689958\n"
     ]
    }
   ],
   "source": [
    "#Test it.... \n",
    "error = 0;\n",
    "learning_rate = 0.01;\n",
    "for x, y_true in zip(x_train[0:500], y_train[0:500]):\n",
    "    output = x;\n",
    "    output = FC[0].forward(output, relu) #L -> Z;\n",
    "    output = FC[1].forward(output, softmax) #Z2/L -> Y;\n",
    "    # It works!\n",
    "    error += sse(y_true, output);\n",
    "    output_error = sse_prime(y_true, output);\n",
    "    #backwards prop... work backwards\n",
    "    output_error = FC[1].backwards(output_error, learning_rate, softmax_prime)\n",
    "    #This should be returning my 32 nodes. \n",
    "    output_error = FC[0].backwards(output_error, learning_rate, relu_prime)\n",
    "    \n",
    "error /= len(x_train[0:500])\n",
    "print(error)"
   ]
  },
  {
   "cell_type": "code",
   "execution_count": 14,
   "metadata": {},
   "outputs": [],
   "source": [
    "L1_XZ = Layers(784, 32, 0);\n",
    "L2_ZY = Layers(32, 10, 1);\n",
    "\n",
    "FC = [L1_XZ, L2_ZY];"
   ]
  },
  {
   "cell_type": "code",
   "execution_count": 15,
   "metadata": {},
   "outputs": [
    {
     "name": "stdout",
     "output_type": "stream",
     "text": [
      "1/20, error=0.430169\n",
      "2/20, error=0.331342\n",
      "3/20, error=0.233195\n",
      "4/20, error=0.183239\n",
      "5/20, error=0.155614\n",
      "6/20, error=0.135672\n",
      "7/20, error=0.119726\n",
      "8/20, error=0.106827\n",
      "9/20, error=0.096906\n",
      "10/20, error=0.089585\n",
      "11/20, error=0.084060\n",
      "12/20, error=0.079678\n",
      "13/20, error=0.076072\n",
      "14/20, error=0.073048\n",
      "15/20, error=0.070481\n",
      "16/20, error=0.068281\n",
      "17/20, error=0.066377\n",
      "18/20, error=0.064710\n",
      "19/20, error=0.063227\n",
      "20/20, error=0.061883\n"
     ]
    }
   ],
   "source": [
    "epochs = 20;\n",
    "learning_rate = 0.01;\n",
    "\n",
    "for epoch in range(epochs):\n",
    "    error = 0;\n",
    "    for x, y_true in zip(x_train, y_train):\n",
    "        output = x;\n",
    "        output = FC[0].forward(output, sigmoid) #L -> Z;\n",
    "        output = FC[1].forward(output, softmax) #Z2/L -> Y;\n",
    "        # It works!\n",
    "        error += sse(y_true, output);\n",
    "        output_error = sse_prime(y_true, output);\n",
    "        #backwards prop... work backwards\n",
    "        output_error = FC[1].backwards(output_error, learning_rate, softmax_prime)\n",
    "        #This should be returning my 32 nodes. \n",
    "        output_error = FC[0].backwards(output_error, learning_rate, sigmoid_prime)\n",
    "    error /= len(x_train)\n",
    "    print('%d/%d, error=%f' % (epoch + 1, epochs, error))"
   ]
  },
  {
   "cell_type": "markdown",
   "metadata": {},
   "source": [
    "Alright! My code works! However, depending on which activation function I use, I have different maximums... When I train it once. \n",
    "If I use a sigmoid function, I have a maximum of 150 inputs, after that I run into overflow errors. This makes sense because I feel as though my errors are due to a vanishing gradient... Which results in my program giving overflows? I'm not too sure.  \n",
    "\n",
    "The ReLu activation function allows me to get a maximum of 500 inputs, signicantly higher than what sigmoid did for me. However, I still get issues when it's larger than this. \n",
    "\n",
    "But let's test it! If it works, I will try to retrain my model using different batches.  \n",
    "**Update: Model runs into issues after the first epoch, overflow errors occur.** \n",
    "\n",
    "**Update 2: Need to create 1 hot encoder for y**\n",
    "\n",
    "**Update 3: Issue I was having was definitely due to the lack of a one hot encoder.... I'm an idiot**\n",
    "\n",
    "Questions for later... Was I running into an issue for my other segments because I lacked a 1 hot encoder.... \n",
    "Okay! Well, I fixed a lot of issues in this version of the code and it works! I checked back on my previous versions and they stil fail regardless of my encoder.\n",
    "\n",
    "**Update 3: Don't know why, but it does not like L2 Norm as a loss function.**\n",
    "* Unless I'm doing something wrong, which could very much be the case, it does not like the L2 norm loss function, aka SSE, because i get values close to 0.  "
   ]
  },
  {
   "cell_type": "markdown",
   "metadata": {},
   "source": [
    "# Success!\n",
    "> After a good while, my model has finally worked! The culprit was not using a onehotencoder and a few other misdeeds. Now we can actually test different values, now that we now our model actually works!  \n",
    "\n",
    "> - **Update** Kinda works, it really does not like sse loss function. So to save time, I will test with mse loss function\n",
    "> - **Update 2** For some reason, sse + sigmoid will be alright if i don't run into that many epochs. I potentially might be running into an issue of over training?\n",
    "\n",
    "### Discussions and Experiments\n",
    "\n",
    "Upon testing, I've concluded that the ReLu on average performs better than sigmoid for this particular problem.  \n",
    "Moving onwards, I now need to experiment with 3 different number of nodes, which as stated previously, I will try 32, 64, and 128. I choose this particular numbers because they are factors of each other and they just seem like good numbers.  \n",
    "\n",
    "For each model, I want to take into account training and validation losses. Remember, I am currently using sse as my loss function, hence to calculate the validation loss, I am going to use the same loss function, except that it won't be used to update my weights.   \n",
    ">  - **Update 3** This is interesting to note because I am now somewhat confident on my models. I run into the overflow errors when I have smaller amount of nodes. For example, when I run 32 nodes, I run into more overflow errors, and then at 64, I get the same error later, but farther down.\n",
    ">  - **Update 4** Model does not like the ReLu and L2 loss combination. I get less errors when running sigmoid + sse. I can also conclude that the more layers I have, the less likely I run into the problem, which I believe is the vanishing gradient."
   ]
  },
  {
   "cell_type": "code",
   "execution_count": 16,
   "metadata": {},
   "outputs": [
    {
     "name": "stdout",
     "output_type": "stream",
     "text": [
      "2/40, error=0.421782       val_error = 0.369730\n",
      "4/40, error=0.221116       val_error = 0.189208\n",
      "6/40, error=0.147237       val_error = 0.139972\n",
      "8/40, error=0.117529       val_error = 0.118605\n",
      "10/40, error=0.098939       val_error = 0.106381\n",
      "12/40, error=0.085799       val_error = 0.099746\n",
      "14/40, error=0.076197       val_error = 0.096188\n",
      "16/40, error=0.069157       val_error = 0.094177\n",
      "18/40, error=0.063920       val_error = 0.093129\n",
      "20/40, error=0.059937       val_error = 0.092647\n",
      "22/40, error=0.056764       val_error = 0.092476\n",
      "24/40, error=0.054065       val_error = 0.092469\n",
      "26/40, error=0.051646       val_error = 0.092486\n",
      "28/40, error=0.049481       val_error = 0.092413\n",
      "30/40, error=0.047574       val_error = 0.092279\n",
      "32/40, error=0.045860       val_error = 0.092151\n",
      "34/40, error=0.044286       val_error = 0.092084\n",
      "36/40, error=0.042818       val_error = 0.092120\n",
      "38/40, error=0.041443       val_error = 0.092279\n",
      "40/40, error=0.040132       val_error = 0.092542\n"
     ]
    }
   ],
   "source": [
    "# 32 hidden nodes\n",
    "model_1 = [Layers(784, 32, 0), Layers(32, 10, 1)]\n",
    "\n",
    "epochs = 40;\n",
    "learning_rate = 0.01;\n",
    "\n",
    "Error_1 = list();\n",
    "Validation_1 = list();\n",
    "accuracy = 0;\n",
    "\n",
    "for epoch in range(epochs):\n",
    "    error = 0\n",
    "    validation_error = 0\n",
    "    for x, y_true in zip(x_train, y_train):\n",
    "        output = x;\n",
    "        output = model_1[0].forward(output, sigmoid) #L -> Z;\n",
    "        output = model_1[1].forward(output, softmax) #Z2/L -> Y;\n",
    "        # It works!\n",
    "        error += sse(y_true, output);\n",
    "        output_error = sse_prime(y_true, output);\n",
    "        #backwards prop... work backwards\n",
    "        output_error = model_1[1].backwards(output_error, learning_rate, softmax_prime)\n",
    "        #This should be returning my 32 nodes. \n",
    "        output_error = model_1[0].backwards(output_error, learning_rate, sigmoid_prime)\n",
    "    error /= len(x_train)\n",
    "    Error_1.append(error)\n",
    "    \n",
    "    ## Validation\n",
    "    for x, y_true in zip(x_test, y_test):\n",
    "        output = x;\n",
    "        output = model_1[0].forward(output, sigmoid) #L -> Z;\n",
    "        output = model_1[1].forward(output, softmax) #Z2/L -> Y;\n",
    "        validation_error += sse(y_true, output);\n",
    "    validation_error /= len(x_test)\n",
    "    Validation_1.append(validation_error)\n",
    "    if epoch % 2 == 0:\n",
    "        print('%d/%d, error=%f       val_error = %f' % (epoch + 2, epochs, error, validation_error))"
   ]
  },
  {
   "cell_type": "code",
   "execution_count": 17,
   "metadata": {},
   "outputs": [
    {
     "name": "stdout",
     "output_type": "stream",
     "text": [
      "2/40, error=0.417925       val_error = 0.350091\n",
      "4/40, error=0.186273       val_error = 0.151967\n",
      "6/40, error=0.113526       val_error = 0.108916\n",
      "8/40, error=0.087961       val_error = 0.093192\n",
      "10/40, error=0.074595       val_error = 0.085779\n",
      "12/40, error=0.065746       val_error = 0.082192\n",
      "14/40, error=0.059007       val_error = 0.080428\n",
      "16/40, error=0.053557       val_error = 0.079499\n",
      "18/40, error=0.049062       val_error = 0.078972\n",
      "20/40, error=0.045325       val_error = 0.078718\n",
      "22/40, error=0.042134       val_error = 0.078684\n",
      "24/40, error=0.039318       val_error = 0.078815\n",
      "26/40, error=0.036788       val_error = 0.079068\n",
      "28/40, error=0.034504       val_error = 0.079424\n",
      "30/40, error=0.032396       val_error = 0.079887\n",
      "32/40, error=0.030419       val_error = 0.080475\n",
      "34/40, error=0.028558       val_error = 0.081189\n",
      "36/40, error=0.026807       val_error = 0.081974\n",
      "38/40, error=0.025187       val_error = 0.082776\n",
      "40/40, error=0.023687       val_error = 0.083581\n"
     ]
    }
   ],
   "source": [
    "#64 hidden nodes\n",
    "model_2 = [Layers(784, 64, 0), Layers(64, 10, 1)]\n",
    "\n",
    "epochs = 40;\n",
    "learning_rate = 0.01;\n",
    "Error_2 = list();\n",
    "Validation_2 = list();\n",
    "\n",
    "for epoch in range(epochs):\n",
    "    error = 0\n",
    "    validation_error = 0\n",
    "    for x, y_true in zip(x_train, y_train):\n",
    "        output = x;\n",
    "        output = model_2[0].forward(output, sigmoid) #L -> Z;\n",
    "        output = model_2[1].forward(output, softmax) #Z2/L -> Y;\n",
    "        # It works!\n",
    "        error += sse(y_true, output);\n",
    "        output_error = sse_prime(y_true, output);\n",
    "        #backwards prop... work backwards\n",
    "        output_error = model_2[1].backwards(output_error, learning_rate, softmax_prime)\n",
    "        #This should be returning my 32 nodes. \n",
    "        output_error = model_2[0].backwards(output_error, learning_rate, sigmoid_prime)\n",
    "    error /= len(x_train)\n",
    "    Error_2.append(error)\n",
    "        \n",
    "    for x, y_true in zip(x_test, y_test):\n",
    "        output = x;\n",
    "        output = model_2[0].forward(output, sigmoid) #L -> Z;\n",
    "        output = model_2[1].forward(output, softmax) #Z2/L -> Y;\n",
    "        validation_error += sse(y_true, output);\n",
    "    validation_error /= len(x_test)\n",
    "    Validation_2.append(validation_error)\n",
    "    if epoch % 2 == 0:\n",
    "        print('%d/%d, error=%f       val_error = %f' % (epoch + 2, epochs, error, validation_error))"
   ]
  },
  {
   "cell_type": "code",
   "execution_count": 18,
   "metadata": {},
   "outputs": [
    {
     "name": "stdout",
     "output_type": "stream",
     "text": [
      "2/40, error=0.415794       val_error = 0.330627\n",
      "4/40, error=0.170397       val_error = 0.139328\n",
      "6/40, error=0.106608       val_error = 0.101563\n",
      "8/40, error=0.084371       val_error = 0.088962\n",
      "10/40, error=0.072241       val_error = 0.083723\n",
      "12/40, error=0.063964       val_error = 0.081247\n",
      "14/40, error=0.057578       val_error = 0.079974\n",
      "16/40, error=0.052301       val_error = 0.079221\n",
      "18/40, error=0.047856       val_error = 0.078730\n",
      "20/40, error=0.044098       val_error = 0.078501\n",
      "22/40, error=0.040892       val_error = 0.078535\n",
      "24/40, error=0.038146       val_error = 0.078725\n",
      "26/40, error=0.035778       val_error = 0.078954\n",
      "28/40, error=0.033695       val_error = 0.079177\n",
      "30/40, error=0.031834       val_error = 0.079375\n",
      "32/40, error=0.030161       val_error = 0.079554\n",
      "34/40, error=0.028643       val_error = 0.079753\n",
      "36/40, error=0.027245       val_error = 0.080037\n",
      "38/40, error=0.025935       val_error = 0.080474\n",
      "40/40, error=0.024648       val_error = 0.081103\n"
     ]
    }
   ],
   "source": [
    "#128 hidden nodes\n",
    "model_3 = [Layers(784, 128, 0), Layers(128, 10, 1)]\n",
    "\n",
    "epochs = 40;\n",
    "learning_rate = 0.01;\n",
    "\n",
    "Error_3 = list();\n",
    "Validation_3 = list();\n",
    "\n",
    "for epoch in range(epochs):\n",
    "    error = 0;\n",
    "    validation_error = 0\n",
    "    for x, y_true in zip(x_train, y_train):\n",
    "        output = x;\n",
    "        output = model_3[0].forward(output, sigmoid) #L -> Z;\n",
    "        output = model_3[1].forward(output, softmax) #Z2/L -> Y;\n",
    "        # It works!\n",
    "        error += sse(y_true, output);\n",
    "        output_error = sse_prime(y_true, output);\n",
    "        #backwards prop... work backwards\n",
    "        output_error = model_3[1].backwards(output_error, learning_rate, softmax_prime)\n",
    "        #This should be returning my 32 nodes. \n",
    "        output_error = model_3[0].backwards(output_error, learning_rate, sigmoid_prime)\n",
    "    error /= len(x_train)\n",
    "    Error_3.append(error)\n",
    "    for x, y_true in zip(x_test, y_test):\n",
    "        output = x;\n",
    "        output = model_3[0].forward(output, sigmoid) #L -> Z;\n",
    "        output = model_3[1].forward(output, softmax) #Z2/L -> Y;\n",
    "        validation_error += sse(y_true, output);\n",
    "    validation_error /= len(x_test)\n",
    "    Validation_3.append(validation_error)\n",
    "    if epoch % 2 == 0:\n",
    "        print('%d/%d, error=%f       val_error = %f' % (epoch + 2, epochs, error, validation_error))"
   ]
  },
  {
   "cell_type": "code",
   "execution_count": 19,
   "metadata": {},
   "outputs": [
    {
     "data": {
      "image/png": "[encoded data removed]",
      "text/plain": [
       "<Figure size 432x288 with 1 Axes>"
      ]
     },
     "metadata": {
      "needs_background": "light"
     },
     "output_type": "display_data"
    }
   ],
   "source": [
    "#Let's test our models. \n",
    "image_test = X[4001:4002];\n",
    "y_true_test = oneHotdecode(y[4001:4002])\n",
    "plt.imshow(image_test.reshape(28,28));\n",
    "plt.title(y_true_test);"
   ]
  },
  {
   "cell_type": "code",
   "execution_count": 20,
   "metadata": {},
   "outputs": [],
   "source": [
    "output = model_3[0].forward(image_test, sigmoid) #L -> Z;\n",
    "output = model_3[1].forward(output, softmax) #Z2/L -> Y;"
   ]
  },
  {
   "cell_type": "code",
   "execution_count": 21,
   "metadata": {},
   "outputs": [
    {
     "data": {
      "text/plain": [
       "array([3], dtype=uint8)"
      ]
     },
     "execution_count": 21,
     "metadata": {},
     "output_type": "execute_result"
    }
   ],
   "source": [
    "val = output[0]\n",
    "oneHotdecode(val)"
   ]
  },
  {
   "cell_type": "markdown",
   "metadata": {},
   "source": [
    "# Success! \n",
    "Our model works! Tested all 3, each predicted this model. However, we can see from our validation tests above that overfitting happens quite often, as our validation error begins to increase after 25 iterations when using 128 nodes. We run into this issue more often when we use less nodes.  \n",
    "  \n",
    "That being said, let's plot our differnt validation and error losses...  "
   ]
  },
  {
   "cell_type": "code",
   "execution_count": 22,
   "metadata": {},
   "outputs": [],
   "source": [
    "def plot_errors(error_loss, validation_loss, num_model):\n",
    "    plt.figure\n",
    "    plt.plot(error_loss, linewidth = 2);\n",
    "    plt.plot(validation_loss, linewidth = 2);\n",
    "    plt.legend(labels = ['Training Loss', 'Validation Loss'])\n",
    "    plt.title(num_model)"
   ]
  },
  {
   "cell_type": "code",
   "execution_count": 23,
   "metadata": {},
   "outputs": [
    {
     "data": {
      "image/png": "[encoded data removed]",
      "text/plain": [
       "<Figure size 432x288 with 1 Axes>"
      ]
     },
     "metadata": {
      "needs_background": "light"
     },
     "output_type": "display_data"
    }
   ],
   "source": [
    "plot_errors(Error_1, Validation_1, 'Model 1')"
   ]
  },
  {
   "cell_type": "code",
   "execution_count": 24,
   "metadata": {},
   "outputs": [
    {
     "data": {
      "image/png": "[encoded data removed]",
      "text/plain": [
       "<Figure size 432x288 with 1 Axes>"
      ]
     },
     "metadata": {
      "needs_background": "light"
     },
     "output_type": "display_data"
    }
   ],
   "source": [
    "plot_errors(Error_2, Validation_2, 'Model 2')"
   ]
  },
  {
   "cell_type": "code",
   "execution_count": 25,
   "metadata": {},
   "outputs": [
    {
     "data": {
      "image/png": "[encoded data removed]",
      "text/plain": [
       "<Figure size 432x288 with 1 Axes>"
      ]
     },
     "metadata": {
      "needs_background": "light"
     },
     "output_type": "display_data"
    }
   ],
   "source": [
    "plot_errors(Error_3, Validation_3, 'Model 3')"
   ]
  },
  {
   "cell_type": "markdown",
   "metadata": {},
   "source": [
    "## Discussion\n",
    "Looking at our plots above, we can see our validation loss slowly increasing, if not staying stagnant at a certain point. This tells us that our model is overfitting. Frankly, we didn't need to graph this to see it, as we can see the validation loss when we trained our models.  \n",
    "\n",
    "That being said, we can now create a better model, one that takes into account overfitting. Basically, we will break out of our training when our validation loss starts to increase. Furthermore, as I've stated earlier, having 32 to 64 nodes in combination with 1000 training points resulted in data overflow in my model. So for my 'better' model, I will try it with 256 nodes. If it works well, I'll test it with a larger dataset"
   ]
  },
  {
   "cell_type": "code",
   "execution_count": 26,
   "metadata": {},
   "outputs": [],
   "source": [
    "x_train = X[0:8000]\n",
    "y_train = y[0:8000]\n",
    "x_test = X[11000:14500]\n",
    "y_test= y[11000:14500]"
   ]
  },
  {
   "cell_type": "code",
   "execution_count": 27,
   "metadata": {
    "scrolled": false
   },
   "outputs": [
    {
     "name": "stdout",
     "output_type": "stream",
     "text": [
      "1/40, error=0.201824       val_error = 0.111767\n",
      "2/40, error=0.082046       val_error = 0.098021\n",
      "3/40, error=0.069079       val_error = 0.094184\n",
      "4/40, error=0.062580       val_error = 0.091603\n",
      "5/40, error=0.058187       val_error = 0.089719\n",
      "6/40, error=0.054878       val_error = 0.088461\n",
      "7/40, error=0.052253       val_error = 0.087606\n",
      "8/40, error=0.050083       val_error = 0.086976\n",
      "9/40, error=0.048225       val_error = 0.086485\n",
      "10/40, error=0.046595       val_error = 0.086085\n",
      "11/40, error=0.045143       val_error = 0.085736\n",
      "12/40, error=0.043836       val_error = 0.085407\n",
      "13/40, error=0.042650       val_error = 0.085091\n",
      "14/40, error=0.041568       val_error = 0.084799\n",
      "15/40, error=0.040574       val_error = 0.084548\n",
      "16/40, error=0.039655       val_error = 0.084350\n",
      "17/40, error=0.038798       val_error = 0.084216\n",
      "18/40, error=0.037994       val_error = 0.084152\n",
      "19/40, error=0.037240       val_error = 0.084154\n",
      "20/40, error=0.036533       val_error = 0.084217\n",
      "21/40, error=0.035863       val_error = 0.084333\n",
      "Overfitting Detected -- Regress back to Model at epoch 18\n"
     ]
    }
   ],
   "source": [
    "from copy import deepcopy\n",
    "\n",
    "final_model = [Layers(784, 256, 0), Layers(256, 10, 1)]\n",
    "\n",
    "epochs = 40;\n",
    "learning_rate = 0.01;\n",
    "\n",
    "Error_4 = list();\n",
    "Validation_4 = list();\n",
    "tmp_m1 = None;\n",
    "tmp_m2 = None;\n",
    "tmp_m3 = None;\n",
    "for epoch in range(epochs):\n",
    "    error = 0;\n",
    "    validation_error = 0\n",
    "    for x, y_true in zip(x_train, y_train):\n",
    "        output = x;\n",
    "        output = final_model[0].forward(output, sigmoid) #L -> Z;\n",
    "        output = final_model[1].forward(output, softmax) #Z2/L -> Y;\n",
    "        # It works!\n",
    "        error += sse(y_true, output);\n",
    "        output_error = sse_prime(y_true, output);\n",
    "        #backwards prop... work backwards\n",
    "        output_error = final_model[1].backwards(output_error, learning_rate, softmax_prime)\n",
    "        #This should be returning my 32 nodes. \n",
    "        output_error = final_model[0].backwards(output_error, learning_rate, sigmoid_prime)\n",
    "    error /= len(x_train)\n",
    "    Error_4.append(error)\n",
    "    for x, y_true in zip(x_test, y_test):\n",
    "        output = x;\n",
    "        output = final_model[0].forward(output, sigmoid) #L -> Z;\n",
    "        output = final_model[1].forward(output, softmax) #Z2/L -> Y;\n",
    "        validation_error += sse(y_true, output);\n",
    "    validation_error /= len(x_test)\n",
    "    Validation_4.append(validation_error)\n",
    "    \n",
    "    val_average = np.mean(np.array(Validation_4[-5:]));\n",
    "    #if (epoch+1) % 2 == 0:\n",
    "    print('%d/%d, error=%f       val_error = %f' % (epoch + 1, epochs, error, validation_error))\n",
    "    \n",
    "    if (validation_error > val_average) and len(Validation_4) > 4:\n",
    "        if np.argmin(Validation_4[-5:]) == 0:\n",
    "            ep = epoch - 3\n",
    "            final_model = deepcopy(tmp_m4)\n",
    "        elif np.argmin(Validation_4[-5:])== 1:\n",
    "            ep = epoch - 2\n",
    "            final_model = deepcopy(tmp_m3)\n",
    "        elif np.argmin(Validation_4[-5:]) == 2:\n",
    "            ep = epoch - 1\n",
    "            final_model = deepcopy(tmp_m2);\n",
    "        elif np.argmin(Validation_4[-5:]) == 3:\n",
    "            ep = epoch \n",
    "            final_model = deepcopy(tmp_m1);\n",
    "        else:\n",
    "            ep = epoch + 1\n",
    "\n",
    "        print(\"Overfitting Detected -- Regress back to Model at epoch %d\" % ep)\n",
    "        break\n",
    "    #Save 4 iterations of our model\n",
    "    if tmp_m1 != None:\n",
    "        if tmp_m2 != None:\n",
    "            if tmp_m3 != None:\n",
    "                tmp_m4 = deepcopy(tmp_m3) #model N-4\n",
    "            tmp_m3 = deepcopy(tmp_m2); #Model N-3;\n",
    "        tmp_m2 = deepcopy(tmp_m1 ); #Model N-2\n",
    "    tmp_m1 = deepcopy(final_model) #Model N-1\n",
    "    "
   ]
  },
  {
   "cell_type": "code",
   "execution_count": 28,
   "metadata": {},
   "outputs": [
    {
     "name": "stdout",
     "output_type": "stream",
     "text": [
      "Val Loss :  0.20054478908775805\n"
     ]
    }
   ],
   "source": [
    "#Test the validation score on a completely different dataset that is differnt from my testing\n",
    "x_val = X[50000:60000]\n",
    "y_val= y[50000:60000]\n",
    "for x, y_true in zip(x_val, y_val):\n",
    "    output = x;\n",
    "    output = final_model[0].forward(output, sigmoid) #L -> Z;\n",
    "    output = final_model[1].forward(output, softmax) #Z2/L -> Y;\n",
    "    validation_error += sse(y_true, output);\n",
    "validation_error /= len(x_test)\n",
    "print(\"Val Loss : \", validation_error)"
   ]
  },
  {
   "cell_type": "code",
   "execution_count": 29,
   "metadata": {
    "scrolled": false
   },
   "outputs": [
    {
     "data": {
      "image/png": "[encoded data removed]",
      "text/plain": [
       "<Figure size 432x288 with 1 Axes>"
      ]
     },
     "metadata": {
      "needs_background": "light"
     },
     "output_type": "display_data"
    }
   ],
   "source": [
    "plot_errors(Error_4[0:40], Validation_4[0:40], 'Final Model')"
   ]
  },
  {
   "cell_type": "code",
   "execution_count": 30,
   "metadata": {},
   "outputs": [
    {
     "data": {
      "image/png": "[encoded data removed]",
      "text/plain": [
       "<Figure size 432x288 with 1 Axes>"
      ]
     },
     "metadata": {
      "needs_background": "light"
     },
     "output_type": "display_data"
    }
   ],
   "source": [
    "test_image = x_val[48:49]\n",
    "test_label = y_val[48:49]\n",
    "plt.imshow(test_image.reshape(28,28));\n",
    "plt.title(oneHotdecode(test_label));"
   ]
  },
  {
   "cell_type": "code",
   "execution_count": 31,
   "metadata": {},
   "outputs": [
    {
     "name": "stdout",
     "output_type": "stream",
     "text": [
      "[8]\n"
     ]
    }
   ],
   "source": [
    "output = final_model[0].forward(test_image, sigmoid) #L -> Z;\n",
    "output = final_model[1].forward(output, softmax) #Z2/L -> Y;\n",
    "predict_image = oneHotdecode(output[0]);\n",
    "print(predict_image)"
   ]
  },
  {
   "cell_type": "markdown",
   "metadata": {},
   "source": [
    "# Conclusion: \n",
    "My final model runs above a 90% accuracy on a validation dataset that is different from my testing datset. I wanted to also note that my final model breaks out of training when the most recent validation accuracy score is greater than the average of the last 5 scores, including the current one. Then, it seeks out the best model that performed during those iterations. By doing the average of the last few scores, we take into account if the most recent validation score is an outlier. If the validation scores are steadily going up (thus giving proof that overfitting is occuring), we would still be able to break out of training as that would mean the most recent score is still larger than the average of the previous set of scores.  \n",
    "\n",
    "  \n",
    "I tested my final model again on a new validation set, one that is completely different from my testing set and I achive similar result having achieved above a 90% accuracy!"
   ]
  },
  {
   "cell_type": "markdown",
   "metadata": {},
   "source": [
    "> ### References :\n",
    "> - https://machinelearningmastery.com/implement-perceptron-algorithm-scratch-python/\n",
    "> - https://colab.research.google.com/drive/10y6glU28-sa-OtkeL8BtAtRlOITGMnMw#scrollTo=rXY7jkUzuqEk\n",
    "> - https://towardsdatascience.com/math-neural-network-from-scratch-in-python-d6da9f29ce65"
   ]
  }
 ],
 "metadata": {
  "kernelspec": {
   "display_name": "Python 3",
   "language": "python",
   "name": "python3"
  },
  "language_info": {
   "codemirror_mode": {
    "name": "ipython",
    "version": 3
   },
   "file_extension": ".py",
   "mimetype": "text/x-python",
   "name": "python",
   "nbconvert_exporter": "python",
   "pygments_lexer": "ipython3",
   "version": "3.7.6"
  }
 },
 "nbformat": 4,
 "nbformat_minor": 4
}
